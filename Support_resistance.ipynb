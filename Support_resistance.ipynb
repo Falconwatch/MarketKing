{
  "nbformat": 4,
  "nbformat_minor": 0,
  "metadata": {
    "colab": {
      "name": "High_detector",
      "provenance": [],
      "authorship_tag": "ABX9TyPlVWl33lAgDme58nsIlNts",
      "include_colab_link": true
    },
    "kernelspec": {
      "name": "python3",
      "display_name": "Python 3"
    },
    "language_info": {
      "name": "python"
    }
  },
  "cells": [
    {
      "cell_type": "markdown",
      "metadata": {
        "id": "view-in-github",
        "colab_type": "text"
      },
      "source": [
        "<a href=\"https://colab.research.google.com/github/Falconwatch/MarketKing/blob/main/Support_resistance.ipynb\" target=\"_parent\"><img src=\"https://colab.research.google.com/assets/colab-badge.svg\" alt=\"Open In Colab\"/></a>"
      ]
    },
    {
      "cell_type": "markdown",
      "source": [
        "В этом ноутбуке создаётся стратегия на основе точке поддержки и сопротивления\n",
        "https://medium.datadriveninvestor.com/how-to-detect-support-resistance-levels-and-breakout-using-python-f8b5dac42f21"
      ],
      "metadata": {
        "id": "_ejqWKdD_mlx"
      }
    },
    {
      "cell_type": "code",
      "source": [
        "#!pip install yfinance\n",
        "#!pip install mplfinance"
      ],
      "metadata": {
        "id": "m7aB4z-r_6mI"
      },
      "execution_count": 1,
      "outputs": []
    },
    {
      "cell_type": "code",
      "source": [
        "from numpy.core.numeric import isclose\n",
        "import yfinance\n",
        "import pandas as pd\n",
        "import numpy as np\n",
        "import matplotlib.pyplot as plt\n",
        "from math import isclose\n",
        "from mplfinance.original_flavor import candlestick_ohlc\n",
        "import matplotlib.dates as mpl_dates\n",
        "import matplotlib.pyplot as plt\n",
        "import matplotlib.dates as mdates\n",
        "\n",
        "%matplotlib inline"
      ],
      "metadata": {
        "id": "F1JJitiA_-l8"
      },
      "execution_count": 2,
      "outputs": []
    },
    {
      "cell_type": "code",
      "source": [
        "from methods import *"
      ],
      "metadata": {
        "id": "HCS1XObuAFB4"
      },
      "execution_count": 3,
      "outputs": []
    },
    {
      "cell_type": "markdown",
      "source": [
        "# Готовим данные"
      ],
      "metadata": {
        "id": "VAaapcSZuvUg"
      }
    },
    {
      "cell_type": "code",
      "source": [
        "stocks = load_data(\"COO\", period_start=\"2021-01-01\", step=\"1d\")\n",
        "stocks = stocks.reset_index()\n",
        "print(stocks.shape[0])\n",
        "stocks.head()"
      ],
      "metadata": {
        "colab": {
          "base_uri": "https://localhost:8080/",
          "height": 238
        },
        "id": "7HiDTIKyANdZ",
        "outputId": "d1cd17ab-0389-4f17-f5c9-dc5b91739f2f"
      },
      "execution_count": 24,
      "outputs": [
        {
          "output_type": "stream",
          "name": "stdout",
          "text": [
            "\r[*********************100%***********************]  1 of 1 completed\n",
            "299\n"
          ]
        },
        {
          "output_type": "execute_result",
          "data": {
            "text/html": [
              "\n",
              "  <div id=\"df-5f872bd7-0554-4e80-9521-6a3336ce87d0\">\n",
              "    <div class=\"colab-df-container\">\n",
              "      <div>\n",
              "<style scoped>\n",
              "    .dataframe tbody tr th:only-of-type {\n",
              "        vertical-align: middle;\n",
              "    }\n",
              "\n",
              "    .dataframe tbody tr th {\n",
              "        vertical-align: top;\n",
              "    }\n",
              "\n",
              "    .dataframe thead th {\n",
              "        text-align: right;\n",
              "    }\n",
              "</style>\n",
              "<table border=\"1\" class=\"dataframe\">\n",
              "  <thead>\n",
              "    <tr style=\"text-align: right;\">\n",
              "      <th></th>\n",
              "      <th>Date</th>\n",
              "      <th>Open</th>\n",
              "      <th>High</th>\n",
              "      <th>Low</th>\n",
              "      <th>Close</th>\n",
              "      <th>Volume</th>\n",
              "    </tr>\n",
              "  </thead>\n",
              "  <tbody>\n",
              "    <tr>\n",
              "      <th>0</th>\n",
              "      <td>2021-01-04</td>\n",
              "      <td>364.917345</td>\n",
              "      <td>366.946884</td>\n",
              "      <td>352.940047</td>\n",
              "      <td>357.179108</td>\n",
              "      <td>283100</td>\n",
              "    </tr>\n",
              "    <tr>\n",
              "      <th>1</th>\n",
              "      <td>2021-01-05</td>\n",
              "      <td>357.649040</td>\n",
              "      <td>363.567683</td>\n",
              "      <td>356.489299</td>\n",
              "      <td>361.388184</td>\n",
              "      <td>170400</td>\n",
              "    </tr>\n",
              "    <tr>\n",
              "      <th>2</th>\n",
              "      <td>2021-01-06</td>\n",
              "      <td>361.468119</td>\n",
              "      <td>367.306823</td>\n",
              "      <td>361.118223</td>\n",
              "      <td>366.227051</td>\n",
              "      <td>207900</td>\n",
              "    </tr>\n",
              "    <tr>\n",
              "      <th>3</th>\n",
              "      <td>2021-01-07</td>\n",
              "      <td>366.746944</td>\n",
              "      <td>371.205957</td>\n",
              "      <td>362.847833</td>\n",
              "      <td>364.977356</td>\n",
              "      <td>218100</td>\n",
              "    </tr>\n",
              "    <tr>\n",
              "      <th>4</th>\n",
              "      <td>2021-01-08</td>\n",
              "      <td>364.797386</td>\n",
              "      <td>369.126393</td>\n",
              "      <td>359.328624</td>\n",
              "      <td>363.147766</td>\n",
              "      <td>349400</td>\n",
              "    </tr>\n",
              "  </tbody>\n",
              "</table>\n",
              "</div>\n",
              "      <button class=\"colab-df-convert\" onclick=\"convertToInteractive('df-5f872bd7-0554-4e80-9521-6a3336ce87d0')\"\n",
              "              title=\"Convert this dataframe to an interactive table.\"\n",
              "              style=\"display:none;\">\n",
              "        \n",
              "  <svg xmlns=\"http://www.w3.org/2000/svg\" height=\"24px\"viewBox=\"0 0 24 24\"\n",
              "       width=\"24px\">\n",
              "    <path d=\"M0 0h24v24H0V0z\" fill=\"none\"/>\n",
              "    <path d=\"M18.56 5.44l.94 2.06.94-2.06 2.06-.94-2.06-.94-.94-2.06-.94 2.06-2.06.94zm-11 1L8.5 8.5l.94-2.06 2.06-.94-2.06-.94L8.5 2.5l-.94 2.06-2.06.94zm10 10l.94 2.06.94-2.06 2.06-.94-2.06-.94-.94-2.06-.94 2.06-2.06.94z\"/><path d=\"M17.41 7.96l-1.37-1.37c-.4-.4-.92-.59-1.43-.59-.52 0-1.04.2-1.43.59L10.3 9.45l-7.72 7.72c-.78.78-.78 2.05 0 2.83L4 21.41c.39.39.9.59 1.41.59.51 0 1.02-.2 1.41-.59l7.78-7.78 2.81-2.81c.8-.78.8-2.07 0-2.86zM5.41 20L4 18.59l7.72-7.72 1.47 1.35L5.41 20z\"/>\n",
              "  </svg>\n",
              "      </button>\n",
              "      \n",
              "  <style>\n",
              "    .colab-df-container {\n",
              "      display:flex;\n",
              "      flex-wrap:wrap;\n",
              "      gap: 12px;\n",
              "    }\n",
              "\n",
              "    .colab-df-convert {\n",
              "      background-color: #E8F0FE;\n",
              "      border: none;\n",
              "      border-radius: 50%;\n",
              "      cursor: pointer;\n",
              "      display: none;\n",
              "      fill: #1967D2;\n",
              "      height: 32px;\n",
              "      padding: 0 0 0 0;\n",
              "      width: 32px;\n",
              "    }\n",
              "\n",
              "    .colab-df-convert:hover {\n",
              "      background-color: #E2EBFA;\n",
              "      box-shadow: 0px 1px 2px rgba(60, 64, 67, 0.3), 0px 1px 3px 1px rgba(60, 64, 67, 0.15);\n",
              "      fill: #174EA6;\n",
              "    }\n",
              "\n",
              "    [theme=dark] .colab-df-convert {\n",
              "      background-color: #3B4455;\n",
              "      fill: #D2E3FC;\n",
              "    }\n",
              "\n",
              "    [theme=dark] .colab-df-convert:hover {\n",
              "      background-color: #434B5C;\n",
              "      box-shadow: 0px 1px 3px 1px rgba(0, 0, 0, 0.15);\n",
              "      filter: drop-shadow(0px 1px 2px rgba(0, 0, 0, 0.3));\n",
              "      fill: #FFFFFF;\n",
              "    }\n",
              "  </style>\n",
              "\n",
              "      <script>\n",
              "        const buttonEl =\n",
              "          document.querySelector('#df-5f872bd7-0554-4e80-9521-6a3336ce87d0 button.colab-df-convert');\n",
              "        buttonEl.style.display =\n",
              "          google.colab.kernel.accessAllowed ? 'block' : 'none';\n",
              "\n",
              "        async function convertToInteractive(key) {\n",
              "          const element = document.querySelector('#df-5f872bd7-0554-4e80-9521-6a3336ce87d0');\n",
              "          const dataTable =\n",
              "            await google.colab.kernel.invokeFunction('convertToInteractive',\n",
              "                                                     [key], {});\n",
              "          if (!dataTable) return;\n",
              "\n",
              "          const docLinkHtml = 'Like what you see? Visit the ' +\n",
              "            '<a target=\"_blank\" href=https://colab.research.google.com/notebooks/data_table.ipynb>data table notebook</a>'\n",
              "            + ' to learn more about interactive tables.';\n",
              "          element.innerHTML = '';\n",
              "          dataTable['output_type'] = 'display_data';\n",
              "          await google.colab.output.renderOutput(dataTable, element);\n",
              "          const docLink = document.createElement('div');\n",
              "          docLink.innerHTML = docLinkHtml;\n",
              "          element.appendChild(docLink);\n",
              "        }\n",
              "      </script>\n",
              "    </div>\n",
              "  </div>\n",
              "  "
            ],
            "text/plain": [
              "        Date        Open        High         Low       Close  Volume\n",
              "0 2021-01-04  364.917345  366.946884  352.940047  357.179108  283100\n",
              "1 2021-01-05  357.649040  363.567683  356.489299  361.388184  170400\n",
              "2 2021-01-06  361.468119  367.306823  361.118223  366.227051  207900\n",
              "3 2021-01-07  366.746944  371.205957  362.847833  364.977356  218100\n",
              "4 2021-01-08  364.797386  369.126393  359.328624  363.147766  349400"
            ]
          },
          "metadata": {},
          "execution_count": 24
        }
      ]
    },
    {
      "cell_type": "markdown",
      "source": [
        "## Размечаем таргет"
      ],
      "metadata": {
        "id": "Xe639m6YFcqi"
      }
    },
    {
      "cell_type": "code",
      "source": [
        "print(\"Размечаем таргет...\")\n",
        "mark_data_targets(stocks, window=10)\n",
        "\n",
        "# отрисовываем график таргеты\n",
        "stocks[\"Close\"].plot(figsize=[10,7], color=\"royalblue\")\n",
        "stocks.loc[stocks[\"peaks\"]==1, \"Close\"].plot(style=\"^\", label=\"peak\", color=\"orange\")\n",
        "stocks.loc[stocks[\"lows\"]==1, \"Close\"].plot(style=\"*\", label=\"low\", color=\"red\")\n",
        "\n",
        "_ = plt.legend()"
      ],
      "metadata": {
        "id": "rOMjhBCGAb9K",
        "colab": {
          "base_uri": "https://localhost:8080/",
          "height": 447
        },
        "outputId": "703b2479-2c95-4e41-faff-c407758d78f1"
      },
      "execution_count": 25,
      "outputs": [
        {
          "output_type": "stream",
          "name": "stdout",
          "text": [
            "Размечаем таргет...\n"
          ]
        },
        {
          "output_type": "display_data",
          "data": {
            "image/png": "[encoded data removed]",
            "text/plain": [
              "<Figure size 720x504 with 1 Axes>"
            ]
          },
          "metadata": {
            "needs_background": "light"
          }
        }
      ]
    },
    {
      "cell_type": "code",
      "source": [
        "stocks"
      ],
      "metadata": {
        "colab": {
          "base_uri": "https://localhost:8080/",
          "height": 419
        },
        "id": "S4TtTvXBgfvL",
        "outputId": "01b722a8-adb0-46db-be8b-eba425fccebd"
      },
      "execution_count": 26,
      "outputs": [
        {
          "output_type": "execute_result",
          "data": {
            "text/html": [
              "\n",
              "  <div id=\"df-137c61d0-37bc-4691-a810-e3843c59691a\">\n",
              "    <div class=\"colab-df-container\">\n",
              "      <div>\n",
              "<style scoped>\n",
              "    .dataframe tbody tr th:only-of-type {\n",
              "        vertical-align: middle;\n",
              "    }\n",
              "\n",
              "    .dataframe tbody tr th {\n",
              "        vertical-align: top;\n",
              "    }\n",
              "\n",
              "    .dataframe thead th {\n",
              "        text-align: right;\n",
              "    }\n",
              "</style>\n",
              "<table border=\"1\" class=\"dataframe\">\n",
              "  <thead>\n",
              "    <tr style=\"text-align: right;\">\n",
              "      <th></th>\n",
              "      <th>Date</th>\n",
              "      <th>Open</th>\n",
              "      <th>High</th>\n",
              "      <th>Low</th>\n",
              "      <th>Close</th>\n",
              "      <th>Volume</th>\n",
              "      <th>lows</th>\n",
              "      <th>peaks</th>\n",
              "    </tr>\n",
              "  </thead>\n",
              "  <tbody>\n",
              "    <tr>\n",
              "      <th>0</th>\n",
              "      <td>2021-01-04</td>\n",
              "      <td>364.917345</td>\n",
              "      <td>366.946884</td>\n",
              "      <td>352.940047</td>\n",
              "      <td>357.179108</td>\n",
              "      <td>283100</td>\n",
              "      <td>0.0</td>\n",
              "      <td>0.0</td>\n",
              "    </tr>\n",
              "    <tr>\n",
              "      <th>1</th>\n",
              "      <td>2021-01-05</td>\n",
              "      <td>357.649040</td>\n",
              "      <td>363.567683</td>\n",
              "      <td>356.489299</td>\n",
              "      <td>361.388184</td>\n",
              "      <td>170400</td>\n",
              "      <td>0.0</td>\n",
              "      <td>0.0</td>\n",
              "    </tr>\n",
              "    <tr>\n",
              "      <th>2</th>\n",
              "      <td>2021-01-06</td>\n",
              "      <td>361.468119</td>\n",
              "      <td>367.306823</td>\n",
              "      <td>361.118223</td>\n",
              "      <td>366.227051</td>\n",
              "      <td>207900</td>\n",
              "      <td>0.0</td>\n",
              "      <td>0.0</td>\n",
              "    </tr>\n",
              "    <tr>\n",
              "      <th>3</th>\n",
              "      <td>2021-01-07</td>\n",
              "      <td>366.746944</td>\n",
              "      <td>371.205957</td>\n",
              "      <td>362.847833</td>\n",
              "      <td>364.977356</td>\n",
              "      <td>218100</td>\n",
              "      <td>0.0</td>\n",
              "      <td>0.0</td>\n",
              "    </tr>\n",
              "    <tr>\n",
              "      <th>4</th>\n",
              "      <td>2021-01-08</td>\n",
              "      <td>364.797386</td>\n",
              "      <td>369.126393</td>\n",
              "      <td>359.328624</td>\n",
              "      <td>363.147766</td>\n",
              "      <td>349400</td>\n",
              "      <td>0.0</td>\n",
              "      <td>0.0</td>\n",
              "    </tr>\n",
              "    <tr>\n",
              "      <th>...</th>\n",
              "      <td>...</td>\n",
              "      <td>...</td>\n",
              "      <td>...</td>\n",
              "      <td>...</td>\n",
              "      <td>...</td>\n",
              "      <td>...</td>\n",
              "      <td>...</td>\n",
              "      <td>...</td>\n",
              "    </tr>\n",
              "    <tr>\n",
              "      <th>294</th>\n",
              "      <td>2022-03-04</td>\n",
              "      <td>412.790009</td>\n",
              "      <td>430.670013</td>\n",
              "      <td>410.019989</td>\n",
              "      <td>424.540009</td>\n",
              "      <td>638200</td>\n",
              "      <td>0.0</td>\n",
              "      <td>1.0</td>\n",
              "    </tr>\n",
              "    <tr>\n",
              "      <th>295</th>\n",
              "      <td>2022-03-07</td>\n",
              "      <td>419.779999</td>\n",
              "      <td>420.440002</td>\n",
              "      <td>397.679993</td>\n",
              "      <td>401.209991</td>\n",
              "      <td>572800</td>\n",
              "      <td>0.0</td>\n",
              "      <td>0.0</td>\n",
              "    </tr>\n",
              "    <tr>\n",
              "      <th>296</th>\n",
              "      <td>2022-03-08</td>\n",
              "      <td>399.559998</td>\n",
              "      <td>401.410004</td>\n",
              "      <td>380.309998</td>\n",
              "      <td>380.390015</td>\n",
              "      <td>492600</td>\n",
              "      <td>0.0</td>\n",
              "      <td>0.0</td>\n",
              "    </tr>\n",
              "    <tr>\n",
              "      <th>297</th>\n",
              "      <td>2022-03-09</td>\n",
              "      <td>386.119995</td>\n",
              "      <td>389.369995</td>\n",
              "      <td>381.679993</td>\n",
              "      <td>386.730011</td>\n",
              "      <td>408500</td>\n",
              "      <td>0.0</td>\n",
              "      <td>0.0</td>\n",
              "    </tr>\n",
              "    <tr>\n",
              "      <th>298</th>\n",
              "      <td>2022-03-10</td>\n",
              "      <td>380.339996</td>\n",
              "      <td>387.559998</td>\n",
              "      <td>380.179993</td>\n",
              "      <td>385.299988</td>\n",
              "      <td>253600</td>\n",
              "      <td>0.0</td>\n",
              "      <td>0.0</td>\n",
              "    </tr>\n",
              "  </tbody>\n",
              "</table>\n",
              "<p>299 rows × 8 columns</p>\n",
              "</div>\n",
              "      <button class=\"colab-df-convert\" onclick=\"convertToInteractive('df-137c61d0-37bc-4691-a810-e3843c59691a')\"\n",
              "              title=\"Convert this dataframe to an interactive table.\"\n",
              "              style=\"display:none;\">\n",
              "        \n",
              "  <svg xmlns=\"http://www.w3.org/2000/svg\" height=\"24px\"viewBox=\"0 0 24 24\"\n",
              "       width=\"24px\">\n",
              "    <path d=\"M0 0h24v24H0V0z\" fill=\"none\"/>\n",
              "    <path d=\"M18.56 5.44l.94 2.06.94-2.06 2.06-.94-2.06-.94-.94-2.06-.94 2.06-2.06.94zm-11 1L8.5 8.5l.94-2.06 2.06-.94-2.06-.94L8.5 2.5l-.94 2.06-2.06.94zm10 10l.94 2.06.94-2.06 2.06-.94-2.06-.94-.94-2.06-.94 2.06-2.06.94z\"/><path d=\"M17.41 7.96l-1.37-1.37c-.4-.4-.92-.59-1.43-.59-.52 0-1.04.2-1.43.59L10.3 9.45l-7.72 7.72c-.78.78-.78 2.05 0 2.83L4 21.41c.39.39.9.59 1.41.59.51 0 1.02-.2 1.41-.59l7.78-7.78 2.81-2.81c.8-.78.8-2.07 0-2.86zM5.41 20L4 18.59l7.72-7.72 1.47 1.35L5.41 20z\"/>\n",
              "  </svg>\n",
              "      </button>\n",
              "      \n",
              "  <style>\n",
              "    .colab-df-container {\n",
              "      display:flex;\n",
              "      flex-wrap:wrap;\n",
              "      gap: 12px;\n",
              "    }\n",
              "\n",
              "    .colab-df-convert {\n",
              "      background-color: #E8F0FE;\n",
              "      border: none;\n",
              "      border-radius: 50%;\n",
              "      cursor: pointer;\n",
              "      display: none;\n",
              "      fill: #1967D2;\n",
              "      height: 32px;\n",
              "      padding: 0 0 0 0;\n",
              "      width: 32px;\n",
              "    }\n",
              "\n",
              "    .colab-df-convert:hover {\n",
              "      background-color: #E2EBFA;\n",
              "      box-shadow: 0px 1px 2px rgba(60, 64, 67, 0.3), 0px 1px 3px 1px rgba(60, 64, 67, 0.15);\n",
              "      fill: #174EA6;\n",
              "    }\n",
              "\n",
              "    [theme=dark] .colab-df-convert {\n",
              "      background-color: #3B4455;\n",
              "      fill: #D2E3FC;\n",
              "    }\n",
              "\n",
              "    [theme=dark] .colab-df-convert:hover {\n",
              "      background-color: #434B5C;\n",
              "      box-shadow: 0px 1px 3px 1px rgba(0, 0, 0, 0.15);\n",
              "      filter: drop-shadow(0px 1px 2px rgba(0, 0, 0, 0.3));\n",
              "      fill: #FFFFFF;\n",
              "    }\n",
              "  </style>\n",
              "\n",
              "      <script>\n",
              "        const buttonEl =\n",
              "          document.querySelector('#df-137c61d0-37bc-4691-a810-e3843c59691a button.colab-df-convert');\n",
              "        buttonEl.style.display =\n",
              "          google.colab.kernel.accessAllowed ? 'block' : 'none';\n",
              "\n",
              "        async function convertToInteractive(key) {\n",
              "          const element = document.querySelector('#df-137c61d0-37bc-4691-a810-e3843c59691a');\n",
              "          const dataTable =\n",
              "            await google.colab.kernel.invokeFunction('convertToInteractive',\n",
              "                                                     [key], {});\n",
              "          if (!dataTable) return;\n",
              "\n",
              "          const docLinkHtml = 'Like what you see? Visit the ' +\n",
              "            '<a target=\"_blank\" href=https://colab.research.google.com/notebooks/data_table.ipynb>data table notebook</a>'\n",
              "            + ' to learn more about interactive tables.';\n",
              "          element.innerHTML = '';\n",
              "          dataTable['output_type'] = 'display_data';\n",
              "          await google.colab.output.renderOutput(dataTable, element);\n",
              "          const docLink = document.createElement('div');\n",
              "          docLink.innerHTML = docLinkHtml;\n",
              "          element.appendChild(docLink);\n",
              "        }\n",
              "      </script>\n",
              "    </div>\n",
              "  </div>\n",
              "  "
            ],
            "text/plain": [
              "          Date        Open        High         Low       Close  Volume  lows  \\\n",
              "0   2021-01-04  364.917345  366.946884  352.940047  357.179108  283100   0.0   \n",
              "1   2021-01-05  357.649040  363.567683  356.489299  361.388184  170400   0.0   \n",
              "2   2021-01-06  361.468119  367.306823  361.118223  366.227051  207900   0.0   \n",
              "3   2021-01-07  366.746944  371.205957  362.847833  364.977356  218100   0.0   \n",
              "4   2021-01-08  364.797386  369.126393  359.328624  363.147766  349400   0.0   \n",
              "..         ...         ...         ...         ...         ...     ...   ...   \n",
              "294 2022-03-04  412.790009  430.670013  410.019989  424.540009  638200   0.0   \n",
              "295 2022-03-07  419.779999  420.440002  397.679993  401.209991  572800   0.0   \n",
              "296 2022-03-08  399.559998  401.410004  380.309998  380.390015  492600   0.0   \n",
              "297 2022-03-09  386.119995  389.369995  381.679993  386.730011  408500   0.0   \n",
              "298 2022-03-10  380.339996  387.559998  380.179993  385.299988  253600   0.0   \n",
              "\n",
              "     peaks  \n",
              "0      0.0  \n",
              "1      0.0  \n",
              "2      0.0  \n",
              "3      0.0  \n",
              "4      0.0  \n",
              "..     ...  \n",
              "294    1.0  \n",
              "295    0.0  \n",
              "296    0.0  \n",
              "297    0.0  \n",
              "298    0.0  \n",
              "\n",
              "[299 rows x 8 columns]"
            ]
          },
          "metadata": {},
          "execution_count": 26
        }
      ]
    },
    {
      "cell_type": "markdown",
      "source": [
        "# Уровни поддержики и сопротивления"
      ],
      "metadata": {
        "id": "ytTB8m3LM7Yr"
      }
    },
    {
      "cell_type": "code",
      "source": [
        "# determine bullish fractal \n",
        "def is_support(df,i):  \n",
        "  cond1 = df['Low'][i] < df['Low'][i-1]   \n",
        "  cond2 = df['Low'][i] < df['Low'][i+1]   \n",
        "  cond3 = df['Low'][i+1] < df['Low'][i+2]   \n",
        "  cond4 = df['Low'][i-1] < df['Low'][i-2]  \n",
        "  return (cond1 and cond2 and cond3 and cond4)\n",
        "\n",
        "# determine bearish fractal\n",
        "def is_resistance(df,i):  \n",
        "  cond1 = df['High'][i] > df['High'][i-1]   \n",
        "  cond2 = df['High'][i] > df['High'][i+1]   \n",
        "  cond3 = df['High'][i+1] > df['High'][i+2]   \n",
        "  cond4 = df['High'][i-1] > df['High'][i-2]  \n",
        "  return (cond1 and cond2 and cond3 and cond4)\n",
        "\n",
        "# to make sure the new level area does not exist already\n",
        "def is_far_from_level(value, levels, df):    \n",
        "  ave =  np.mean(df['High'] - df['Low'])    \n",
        "  return np.sum([abs(value-level)<ave for _,level, _ in levels])==0\n",
        "\n",
        "# for visualization\n",
        "def plot_all(levels, df):    \n",
        "  fig, ax = plt.subplots(figsize=(16, 9))  \n",
        "   \n",
        "  candlestick_ohlc(ax, df.values, width=0.6, colorup='green', \n",
        "    colordown='red', alpha=0.8)    \n",
        "  date_format = mpl_dates.DateFormatter('%d %b %Y')\n",
        "  ax.xaxis.set_major_formatter(date_format)\n",
        "\n",
        "  support_levels = [level for level in levels if level[2]==\"s\"]\n",
        "  resistance_levels = [level for level in levels if level[2]==\"r\"]\n",
        "\n",
        "  def plot_levels(lvls):\n",
        "    for i in range(len(lvls)):\n",
        "      level = lvls[i]\n",
        "      x_min = df['Date'][level[0]]\n",
        "      if i == len(lvls)-1:\n",
        "        x_max = max(df['Date'])\n",
        "      else:\n",
        "        next_level = lvls[i+1]\n",
        "        x_max = df['Date'][next_level[0]]\n",
        "        #x_max = max(df['Date'][next_level[0]])\n",
        "\n",
        "      if level[2]==\"r\":\n",
        "        c = \"green\"\n",
        "      elif level[2]==\"s\":\n",
        "        c = \"red\"\n",
        "      else:\n",
        "        c=\"yellow\"\n",
        "\n",
        "      plt.hlines(level[1], xmin = x_min, xmax = x_max,\n",
        "                colors=c, linestyle='--')\n",
        "      \n",
        "  plot_levels(support_levels)\n",
        "  plot_levels(resistance_levels)\n",
        "  \n",
        "  fig.show()"
      ],
      "metadata": {
        "id": "1ZbDSvjTOLts"
      },
      "execution_count": 89,
      "outputs": []
    },
    {
      "cell_type": "code",
      "source": [
        "df = stocks[[\"Date\",\t\"Open\", \"Close\",\t\"High\",\t\"Low\", \"Volume\"]].copy(deep=True)\n",
        "\n",
        "df.Date = pd.to_datetime(df.Date)\n",
        "df = df[['Date', 'Open', 'High', 'Low', 'Close', 'Volume']]\n",
        "df[\"Date\"] = df[\"Date\"].apply(mpl_dates.date2num)\n"
      ],
      "metadata": {
        "id": "OxSx5Z_DOU2g"
      },
      "execution_count": 90,
      "outputs": []
    },
    {
      "cell_type": "markdown",
      "source": [
        "## method 1: fractal candlestick pattern"
      ],
      "metadata": {
        "id": "kApiAoUBnyk3"
      }
    },
    {
      "cell_type": "code",
      "source": [
        "#method 1: fractal candlestick pattern\n",
        "def detect_level_method_1(df):\n",
        "  levels = []\n",
        "  for i in range(2,df.shape[0]-2):\n",
        "    if is_support(df,i):\n",
        "      l = df['Low'][i]\n",
        "      if is_far_from_level(l, levels, df):\n",
        "        levels.append((i,l, \"s\"))\n",
        "    elif is_resistance(df,i):\n",
        "      l = df['High'][i]\n",
        "      if is_far_from_level(l, levels, df):\n",
        "        levels.append((i,l, \"r\"))\n",
        "  return levels"
      ],
      "metadata": {
        "id": "vAKapzmkgQk4"
      },
      "execution_count": 91,
      "outputs": []
    },
    {
      "cell_type": "code",
      "source": [
        "levels_1[2]"
      ],
      "metadata": {
        "id": "ATuHOKnjTpdb",
        "outputId": "d2396106-d353-4a69-f0c5-0c2343e4f6f9",
        "colab": {
          "base_uri": "https://localhost:8080/"
        }
      },
      "execution_count": 92,
      "outputs": [
        {
          "output_type": "execute_result",
          "data": {
            "text/plain": [
              "(23, 391.9018167587679, 'r')"
            ]
          },
          "metadata": {},
          "execution_count": 92
        }
      ]
    },
    {
      "cell_type": "code",
      "source": [
        "levels_1 = detect_level_method_1(df)\n",
        "plot_all(levels_1, df)"
      ],
      "metadata": {
        "colab": {
          "base_uri": "https://localhost:8080/",
          "height": 537
        },
        "id": "rHdgGQmSgr2z",
        "outputId": "d1d70fde-62f6-47a2-9d20-e4432e359a0a"
      },
      "execution_count": 93,
      "outputs": [
        {
          "output_type": "display_data",
          "data": {
            "image/png": "[encoded data removed]",
            "text/plain": [
              "<Figure size 1152x648 with 1 Axes>"
            ]
          },
          "metadata": {
            "needs_background": "light"
          }
        }
      ]
    },
    {
      "cell_type": "markdown",
      "source": [
        "#method 2: window shifting method"
      ],
      "metadata": {
        "id": "7VTo5MLSKwF1"
      }
    },
    {
      "cell_type": "code",
      "source": [
        "#method 2: window shifting method\n",
        "def detect_level_method_2(df):\n",
        "  levels = []\n",
        "  max_list = []\n",
        "  min_list = []\n",
        "  for i in range(5, len(df)-5):\n",
        "      high_range = df['High'][i-5:i+4]\n",
        "      current_max = high_range.max()\n",
        "      if current_max not in max_list:\n",
        "          max_list = []\n",
        "      max_list.append(current_max)\n",
        "      if len(max_list) == 5 and is_far_from_level(current_max, levels, df):\n",
        "          levels.append((high_range.idxmax(), current_max, \"r\"))\n",
        "      \n",
        "      low_range = df['Low'][i-5:i+5]\n",
        "      current_min = low_range.min()\n",
        "      if current_min not in min_list:\n",
        "          min_list = []\n",
        "      min_list.append(current_min)\n",
        "      if len(min_list) == 5 and is_far_from_level(current_min, levels, df):\n",
        "          levels.append((low_range.idxmin(), current_min, \"s\"))\n",
        "  return levels"
      ],
      "metadata": {
        "id": "n7qRlWsHN2ex"
      },
      "execution_count": 96,
      "outputs": []
    },
    {
      "cell_type": "code",
      "source": [
        "levels_2 = detect_level_method_2(df)\n",
        "plot_all(levels_2, df)"
      ],
      "metadata": {
        "id": "DHPiMi_LN3rm",
        "outputId": "4cb707e2-79f8-4227-e2a5-436c4b93d956",
        "colab": {
          "base_uri": "https://localhost:8080/",
          "height": 537
        }
      },
      "execution_count": 97,
      "outputs": [
        {
          "output_type": "display_data",
          "data": {
            "image/png": "[encoded data removed]",
            "text/plain": [
              "<Figure size 1152x648 with 1 Axes>"
            ]
          },
          "metadata": {
            "needs_background": "light"
          }
        }
      ]
    },
    {
      "cell_type": "markdown",
      "source": [
        ""
      ],
      "metadata": {
        "id": "c93NI1uWLH4p"
      }
    },
    {
      "cell_type": "markdown",
      "source": [
        "# Поиск пробитий"
      ],
      "metadata": {
        "id": "fqK_beYLMGVw"
      }
    },
    {
      "cell_type": "code",
      "source": [
        "# to detect breakout\n",
        "def has_breakout(levels, previous, last):\n",
        "  for _, level, t in levels:\n",
        "    #тут надо написать адекватные критерии пробития саппорта и резиста\n",
        "    cond1 = (previous['Open'] < level) \n",
        "    cond2 = (last['Open'] > level) and (last['Low'] > level)\n",
        "  return (cond1 and cond2)\n",
        "\n",
        "has_bo_1 = False\n",
        "has_bo_2 = False\n",
        "\n",
        "try:     \n",
        "    # get levels using the first method\n",
        "  levels_1 = detect_level_method_1(df)\n",
        "  if (has_breakout(levels_1[-5:], df.iloc[-2], df.iloc[-1])):\n",
        "    has_bo_1 = True\n",
        "\n",
        "  # get levels using the second method\n",
        "  levels_2 = detect_level_method_2(df)\n",
        "  if (has_breakout(levels_2[-5:], df.iloc[-2], df.iloc[-1])):\n",
        "    has_bo_2 = True\n",
        "\n",
        "except Exception as e:\n",
        "  print(e)"
      ],
      "metadata": {
        "id": "ZZSrBldOMJio"
      },
      "execution_count": 99,
      "outputs": []
    },
    {
      "cell_type": "code",
      "source": [
        "has_bo_1"
      ],
      "metadata": {
        "id": "2a7PIqc2PDA0",
        "outputId": "181cd2df-cdfd-4967-bf00-72b73c0df255",
        "colab": {
          "base_uri": "https://localhost:8080/"
        }
      },
      "execution_count": 100,
      "outputs": [
        {
          "output_type": "execute_result",
          "data": {
            "text/plain": [
              "False"
            ]
          },
          "metadata": {},
          "execution_count": 100
        }
      ]
    },
    {
      "cell_type": "code",
      "source": [
        "has_bo_2"
      ],
      "metadata": {
        "id": "DIGbtXSkNVbv",
        "outputId": "3e3bcdf2-22bc-4f70-cf87-536f922b3b92",
        "colab": {
          "base_uri": "https://localhost:8080/"
        }
      },
      "execution_count": 101,
      "outputs": [
        {
          "output_type": "execute_result",
          "data": {
            "text/plain": [
              "False"
            ]
          },
          "metadata": {},
          "execution_count": 101
        }
      ]
    },
    {
      "cell_type": "markdown",
      "source": [
        "#Стратегия на основе пробитий"
      ],
      "metadata": {
        "id": "W_O948COZ-mF"
      }
    },
    {
      "cell_type": "code",
      "source": [
        ""
      ],
      "metadata": {
        "id": "puF4WY8BaDCt"
      },
      "execution_count": null,
      "outputs": []
    },
    {
      "cell_type": "markdown",
      "source": [
        "# Валидация стратегии"
      ],
      "metadata": {
        "id": "9NFdSdUS5f1z"
      }
    },
    {
      "cell_type": "code",
      "source": [
        "money_hist_train, money_train, eq_train = validate(train_data, start_money = 10000, verbose=2)"
      ],
      "metadata": {
        "id": "HnU54l2zbQMC"
      },
      "execution_count": null,
      "outputs": []
    },
    {
      "cell_type": "code",
      "source": [
        "plt.plot(money_hist_train)"
      ],
      "metadata": {
        "id": "LboGtoAsnrro"
      },
      "execution_count": null,
      "outputs": []
    },
    {
      "cell_type": "code",
      "source": [
        "money_hist_test, money_test, eq_test = validate(test_data, start_money = 10000, verbose=2)"
      ],
      "metadata": {
        "id": "UXooBHd49dwN"
      },
      "execution_count": null,
      "outputs": []
    },
    {
      "cell_type": "code",
      "source": [
        "plt.plot(money_hist_test)"
      ],
      "metadata": {
        "id": "xQkvQCOtV5sf"
      },
      "execution_count": null,
      "outputs": []
    },
    {
      "cell_type": "code",
      "source": [
        ""
      ],
      "metadata": {
        "id": "Z6vsk6Msyj50"
      },
      "execution_count": null,
      "outputs": []
    }
  ]
}