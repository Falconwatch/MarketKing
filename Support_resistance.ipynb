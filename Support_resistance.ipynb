{
  "nbformat": 4,
  "nbformat_minor": 0,
  "metadata": {
    "colab": {
      "name": "High_detector",
      "provenance": [],
      "authorship_tag": "ABX9TyMYQYPNw9/ca2qgpfyGTcrj",
      "include_colab_link": true
    },
    "kernelspec": {
      "name": "python3",
      "display_name": "Python 3"
    },
    "language_info": {
      "name": "python"
    }
  },
  "cells": [
    {
      "cell_type": "markdown",
      "metadata": {
        "id": "view-in-github",
        "colab_type": "text"
      },
      "source": [
        "<a href=\"https://colab.research.google.com/github/Falconwatch/MarketKing/blob/main/Support_resistance.ipynb\" target=\"_parent\"><img src=\"https://colab.research.google.com/assets/colab-badge.svg\" alt=\"Open In Colab\"/></a>"
      ]
    },
    {
      "cell_type": "markdown",
      "source": [
        "В этом ноутбуке создаётся стратегия на основе точке поддержки и сопротивления\n",
        "https://medium.datadriveninvestor.com/how-to-detect-support-resistance-levels-and-breakout-using-python-f8b5dac42f21"
      ],
      "metadata": {
        "id": "_ejqWKdD_mlx"
      }
    },
    {
      "cell_type": "code",
      "source": [
        "#!pip install yfinance\n",
        "#!pip install mplfinance"
      ],
      "metadata": {
        "id": "m7aB4z-r_6mI"
      },
      "execution_count": 2,
      "outputs": []
    },
    {
      "cell_type": "code",
      "source": [
        "from numpy.core.numeric import isclose\n",
        "import yfinance\n",
        "import pandas as pd\n",
        "import numpy as np\n",
        "import matplotlib.pyplot as plt\n",
        "from math import isclose\n",
        "from mplfinance.original_flavor import candlestick_ohlc\n",
        "import matplotlib.dates as mpl_dates\n",
        "import matplotlib.pyplot as plt\n",
        "import matplotlib.dates as mdates\n",
        "\n",
        "%matplotlib inline"
      ],
      "metadata": {
        "id": "F1JJitiA_-l8"
      },
      "execution_count": 3,
      "outputs": []
    },
    {
      "cell_type": "code",
      "source": [
        "from methods import *"
      ],
      "metadata": {
        "id": "HCS1XObuAFB4"
      },
      "execution_count": 4,
      "outputs": []
    },
    {
      "cell_type": "markdown",
      "source": [
        "# Готовим данные"
      ],
      "metadata": {
        "id": "VAaapcSZuvUg"
      }
    },
    {
      "cell_type": "code",
      "source": [
        "stocks = load_data(\"MSFT\", period_start=\"2021-01-01\", step=\"1d\")\n",
        "stocks = stocks.reset_index()\n",
        "print(stocks.shape[0])\n",
        "stocks.head()"
      ],
      "metadata": {
        "colab": {
          "base_uri": "https://localhost:8080/",
          "height": 238
        },
        "id": "7HiDTIKyANdZ",
        "outputId": "d07e11f3-4d60-44fb-bf5c-49bf13f92c7f"
      },
      "execution_count": 88,
      "outputs": [
        {
          "output_type": "stream",
          "name": "stdout",
          "text": [
            "\r[*********************100%***********************]  1 of 1 completed\n",
            "301\n"
          ]
        },
        {
          "output_type": "execute_result",
          "data": {
            "text/plain": [
              "        Date        Open        High         Low       Close    Volume\n",
              "0 2021-01-04  220.224826  220.689959  212.584796  215.434967  37130100\n",
              "1 2021-01-05  215.009407  216.256364  213.465569  215.642776  23823000\n",
              "2 2021-01-06  209.972142  214.247399  209.744529  210.051315  35930700\n",
              "3 2021-01-07  211.822773  217.067874  211.496205  216.028748  27694500\n",
              "4 2021-01-08  216.414706  218.295033  214.781804  217.344971  22956200"
            ],
            "text/html": [
              "\n",
              "  <div id=\"df-76381c90-17ed-470c-b563-0d3e418f0d52\">\n",
              "    <div class=\"colab-df-container\">\n",
              "      <div>\n",
              "<style scoped>\n",
              "    .dataframe tbody tr th:only-of-type {\n",
              "        vertical-align: middle;\n",
              "    }\n",
              "\n",
              "    .dataframe tbody tr th {\n",
              "        vertical-align: top;\n",
              "    }\n",
              "\n",
              "    .dataframe thead th {\n",
              "        text-align: right;\n",
              "    }\n",
              "</style>\n",
              "<table border=\"1\" class=\"dataframe\">\n",
              "  <thead>\n",
              "    <tr style=\"text-align: right;\">\n",
              "      <th></th>\n",
              "      <th>Date</th>\n",
              "      <th>Open</th>\n",
              "      <th>High</th>\n",
              "      <th>Low</th>\n",
              "      <th>Close</th>\n",
              "      <th>Volume</th>\n",
              "    </tr>\n",
              "  </thead>\n",
              "  <tbody>\n",
              "    <tr>\n",
              "      <th>0</th>\n",
              "      <td>2021-01-04</td>\n",
              "      <td>220.224826</td>\n",
              "      <td>220.689959</td>\n",
              "      <td>212.584796</td>\n",
              "      <td>215.434967</td>\n",
              "      <td>37130100</td>\n",
              "    </tr>\n",
              "    <tr>\n",
              "      <th>1</th>\n",
              "      <td>2021-01-05</td>\n",
              "      <td>215.009407</td>\n",
              "      <td>216.256364</td>\n",
              "      <td>213.465569</td>\n",
              "      <td>215.642776</td>\n",
              "      <td>23823000</td>\n",
              "    </tr>\n",
              "    <tr>\n",
              "      <th>2</th>\n",
              "      <td>2021-01-06</td>\n",
              "      <td>209.972142</td>\n",
              "      <td>214.247399</td>\n",
              "      <td>209.744529</td>\n",
              "      <td>210.051315</td>\n",
              "      <td>35930700</td>\n",
              "    </tr>\n",
              "    <tr>\n",
              "      <th>3</th>\n",
              "      <td>2021-01-07</td>\n",
              "      <td>211.822773</td>\n",
              "      <td>217.067874</td>\n",
              "      <td>211.496205</td>\n",
              "      <td>216.028748</td>\n",
              "      <td>27694500</td>\n",
              "    </tr>\n",
              "    <tr>\n",
              "      <th>4</th>\n",
              "      <td>2021-01-08</td>\n",
              "      <td>216.414706</td>\n",
              "      <td>218.295033</td>\n",
              "      <td>214.781804</td>\n",
              "      <td>217.344971</td>\n",
              "      <td>22956200</td>\n",
              "    </tr>\n",
              "  </tbody>\n",
              "</table>\n",
              "</div>\n",
              "      <button class=\"colab-df-convert\" onclick=\"convertToInteractive('df-76381c90-17ed-470c-b563-0d3e418f0d52')\"\n",
              "              title=\"Convert this dataframe to an interactive table.\"\n",
              "              style=\"display:none;\">\n",
              "        \n",
              "  <svg xmlns=\"http://www.w3.org/2000/svg\" height=\"24px\"viewBox=\"0 0 24 24\"\n",
              "       width=\"24px\">\n",
              "    <path d=\"M0 0h24v24H0V0z\" fill=\"none\"/>\n",
              "    <path d=\"M18.56 5.44l.94 2.06.94-2.06 2.06-.94-2.06-.94-.94-2.06-.94 2.06-2.06.94zm-11 1L8.5 8.5l.94-2.06 2.06-.94-2.06-.94L8.5 2.5l-.94 2.06-2.06.94zm10 10l.94 2.06.94-2.06 2.06-.94-2.06-.94-.94-2.06-.94 2.06-2.06.94z\"/><path d=\"M17.41 7.96l-1.37-1.37c-.4-.4-.92-.59-1.43-.59-.52 0-1.04.2-1.43.59L10.3 9.45l-7.72 7.72c-.78.78-.78 2.05 0 2.83L4 21.41c.39.39.9.59 1.41.59.51 0 1.02-.2 1.41-.59l7.78-7.78 2.81-2.81c.8-.78.8-2.07 0-2.86zM5.41 20L4 18.59l7.72-7.72 1.47 1.35L5.41 20z\"/>\n",
              "  </svg>\n",
              "      </button>\n",
              "      \n",
              "  <style>\n",
              "    .colab-df-container {\n",
              "      display:flex;\n",
              "      flex-wrap:wrap;\n",
              "      gap: 12px;\n",
              "    }\n",
              "\n",
              "    .colab-df-convert {\n",
              "      background-color: #E8F0FE;\n",
              "      border: none;\n",
              "      border-radius: 50%;\n",
              "      cursor: pointer;\n",
              "      display: none;\n",
              "      fill: #1967D2;\n",
              "      height: 32px;\n",
              "      padding: 0 0 0 0;\n",
              "      width: 32px;\n",
              "    }\n",
              "\n",
              "    .colab-df-convert:hover {\n",
              "      background-color: #E2EBFA;\n",
              "      box-shadow: 0px 1px 2px rgba(60, 64, 67, 0.3), 0px 1px 3px 1px rgba(60, 64, 67, 0.15);\n",
              "      fill: #174EA6;\n",
              "    }\n",
              "\n",
              "    [theme=dark] .colab-df-convert {\n",
              "      background-color: #3B4455;\n",
              "      fill: #D2E3FC;\n",
              "    }\n",
              "\n",
              "    [theme=dark] .colab-df-convert:hover {\n",
              "      background-color: #434B5C;\n",
              "      box-shadow: 0px 1px 3px 1px rgba(0, 0, 0, 0.15);\n",
              "      filter: drop-shadow(0px 1px 2px rgba(0, 0, 0, 0.3));\n",
              "      fill: #FFFFFF;\n",
              "    }\n",
              "  </style>\n",
              "\n",
              "      <script>\n",
              "        const buttonEl =\n",
              "          document.querySelector('#df-76381c90-17ed-470c-b563-0d3e418f0d52 button.colab-df-convert');\n",
              "        buttonEl.style.display =\n",
              "          google.colab.kernel.accessAllowed ? 'block' : 'none';\n",
              "\n",
              "        async function convertToInteractive(key) {\n",
              "          const element = document.querySelector('#df-76381c90-17ed-470c-b563-0d3e418f0d52');\n",
              "          const dataTable =\n",
              "            await google.colab.kernel.invokeFunction('convertToInteractive',\n",
              "                                                     [key], {});\n",
              "          if (!dataTable) return;\n",
              "\n",
              "          const docLinkHtml = 'Like what you see? Visit the ' +\n",
              "            '<a target=\"_blank\" href=https://colab.research.google.com/notebooks/data_table.ipynb>data table notebook</a>'\n",
              "            + ' to learn more about interactive tables.';\n",
              "          element.innerHTML = '';\n",
              "          dataTable['output_type'] = 'display_data';\n",
              "          await google.colab.output.renderOutput(dataTable, element);\n",
              "          const docLink = document.createElement('div');\n",
              "          docLink.innerHTML = docLinkHtml;\n",
              "          element.appendChild(docLink);\n",
              "        }\n",
              "      </script>\n",
              "    </div>\n",
              "  </div>\n",
              "  "
            ]
          },
          "metadata": {},
          "execution_count": 88
        }
      ]
    },
    {
      "cell_type": "markdown",
      "source": [
        "## Размечаем таргет"
      ],
      "metadata": {
        "id": "Xe639m6YFcqi"
      }
    },
    {
      "cell_type": "code",
      "source": [
        "print(\"Размечаем таргет...\")\n",
        "mark_data_targets(stocks, window=10)\n",
        "\n",
        "# отрисовываем график таргеты\n",
        "stocks[\"Close\"].plot(figsize=[10,7], color=\"royalblue\")\n",
        "stocks.loc[stocks[\"peaks\"]==1, \"Close\"].plot(style=\"^\", label=\"peak\", color=\"orange\")\n",
        "stocks.loc[stocks[\"lows\"]==1, \"Close\"].plot(style=\"*\", label=\"low\", color=\"red\")\n",
        "\n",
        "_ = plt.legend()"
      ],
      "metadata": {
        "id": "rOMjhBCGAb9K",
        "colab": {
          "base_uri": "https://localhost:8080/",
          "height": 445
        },
        "outputId": "d177761d-c6ea-4a2c-82af-f0067c700270"
      },
      "execution_count": 89,
      "outputs": [
        {
          "output_type": "stream",
          "name": "stdout",
          "text": [
            "Размечаем таргет...\n"
          ]
        },
        {
          "output_type": "display_data",
          "data": {
            "text/plain": [
              "<Figure size 720x504 with 1 Axes>"
            ],
            "image/png": "[encoded data removed]"
          },
          "metadata": {
            "needs_background": "light"
          }
        }
      ]
    },
    {
      "cell_type": "code",
      "source": [
        "stocks"
      ],
      "metadata": {
        "colab": {
          "base_uri": "https://localhost:8080/",
          "height": 419
        },
        "id": "S4TtTvXBgfvL",
        "outputId": "436a769d-614f-4286-b6ca-1d3d39e1fb8f"
      },
      "execution_count": 90,
      "outputs": [
        {
          "output_type": "execute_result",
          "data": {
            "text/plain": [
              "          Date        Open        High         Low       Close    Volume  \\\n",
              "0   2021-01-04  220.224826  220.689959  212.584796  215.434967  37130100   \n",
              "1   2021-01-05  215.009407  216.256364  213.465569  215.642776  23823000   \n",
              "2   2021-01-06  209.972142  214.247399  209.744529  210.051315  35930700   \n",
              "3   2021-01-07  211.822773  217.067874  211.496205  216.028748  27694500   \n",
              "4   2021-01-08  216.414706  218.295033  214.781804  217.344971  22956200   \n",
              "..         ...         ...         ...         ...         ...       ...   \n",
              "296 2022-03-08  277.799988  283.959991  270.000000  275.850006  48159500   \n",
              "297 2022-03-09  283.440002  289.600006  280.779999  288.500000  35204500   \n",
              "298 2022-03-10  283.019989  286.600006  280.579987  285.589996  30628000   \n",
              "299 2022-03-11  287.959991  289.510010  279.429993  280.070007  27192600   \n",
              "300 2022-03-14  280.339996  284.739990  280.010010  283.170013   4223725   \n",
              "\n",
              "     lows  peaks  \n",
              "0     0.0    0.0  \n",
              "1     0.0    0.0  \n",
              "2     0.0    0.0  \n",
              "3     0.0    0.0  \n",
              "4     0.0    0.0  \n",
              "..    ...    ...  \n",
              "296   1.0    0.0  \n",
              "297   0.0    0.0  \n",
              "298   0.0    0.0  \n",
              "299   0.0    0.0  \n",
              "300   0.0    0.0  \n",
              "\n",
              "[301 rows x 8 columns]"
            ],
            "text/html": [
              "\n",
              "  <div id=\"df-7ed284ad-4729-4860-bba5-8d39651d0e4e\">\n",
              "    <div class=\"colab-df-container\">\n",
              "      <div>\n",
              "<style scoped>\n",
              "    .dataframe tbody tr th:only-of-type {\n",
              "        vertical-align: middle;\n",
              "    }\n",
              "\n",
              "    .dataframe tbody tr th {\n",
              "        vertical-align: top;\n",
              "    }\n",
              "\n",
              "    .dataframe thead th {\n",
              "        text-align: right;\n",
              "    }\n",
              "</style>\n",
              "<table border=\"1\" class=\"dataframe\">\n",
              "  <thead>\n",
              "    <tr style=\"text-align: right;\">\n",
              "      <th></th>\n",
              "      <th>Date</th>\n",
              "      <th>Open</th>\n",
              "      <th>High</th>\n",
              "      <th>Low</th>\n",
              "      <th>Close</th>\n",
              "      <th>Volume</th>\n",
              "      <th>lows</th>\n",
              "      <th>peaks</th>\n",
              "    </tr>\n",
              "  </thead>\n",
              "  <tbody>\n",
              "    <tr>\n",
              "      <th>0</th>\n",
              "      <td>2021-01-04</td>\n",
              "      <td>220.224826</td>\n",
              "      <td>220.689959</td>\n",
              "      <td>212.584796</td>\n",
              "      <td>215.434967</td>\n",
              "      <td>37130100</td>\n",
              "      <td>0.0</td>\n",
              "      <td>0.0</td>\n",
              "    </tr>\n",
              "    <tr>\n",
              "      <th>1</th>\n",
              "      <td>2021-01-05</td>\n",
              "      <td>215.009407</td>\n",
              "      <td>216.256364</td>\n",
              "      <td>213.465569</td>\n",
              "      <td>215.642776</td>\n",
              "      <td>23823000</td>\n",
              "      <td>0.0</td>\n",
              "      <td>0.0</td>\n",
              "    </tr>\n",
              "    <tr>\n",
              "      <th>2</th>\n",
              "      <td>2021-01-06</td>\n",
              "      <td>209.972142</td>\n",
              "      <td>214.247399</td>\n",
              "      <td>209.744529</td>\n",
              "      <td>210.051315</td>\n",
              "      <td>35930700</td>\n",
              "      <td>0.0</td>\n",
              "      <td>0.0</td>\n",
              "    </tr>\n",
              "    <tr>\n",
              "      <th>3</th>\n",
              "      <td>2021-01-07</td>\n",
              "      <td>211.822773</td>\n",
              "      <td>217.067874</td>\n",
              "      <td>211.496205</td>\n",
              "      <td>216.028748</td>\n",
              "      <td>27694500</td>\n",
              "      <td>0.0</td>\n",
              "      <td>0.0</td>\n",
              "    </tr>\n",
              "    <tr>\n",
              "      <th>4</th>\n",
              "      <td>2021-01-08</td>\n",
              "      <td>216.414706</td>\n",
              "      <td>218.295033</td>\n",
              "      <td>214.781804</td>\n",
              "      <td>217.344971</td>\n",
              "      <td>22956200</td>\n",
              "      <td>0.0</td>\n",
              "      <td>0.0</td>\n",
              "    </tr>\n",
              "    <tr>\n",
              "      <th>...</th>\n",
              "      <td>...</td>\n",
              "      <td>...</td>\n",
              "      <td>...</td>\n",
              "      <td>...</td>\n",
              "      <td>...</td>\n",
              "      <td>...</td>\n",
              "      <td>...</td>\n",
              "      <td>...</td>\n",
              "    </tr>\n",
              "    <tr>\n",
              "      <th>296</th>\n",
              "      <td>2022-03-08</td>\n",
              "      <td>277.799988</td>\n",
              "      <td>283.959991</td>\n",
              "      <td>270.000000</td>\n",
              "      <td>275.850006</td>\n",
              "      <td>48159500</td>\n",
              "      <td>1.0</td>\n",
              "      <td>0.0</td>\n",
              "    </tr>\n",
              "    <tr>\n",
              "      <th>297</th>\n",
              "      <td>2022-03-09</td>\n",
              "      <td>283.440002</td>\n",
              "      <td>289.600006</td>\n",
              "      <td>280.779999</td>\n",
              "      <td>288.500000</td>\n",
              "      <td>35204500</td>\n",
              "      <td>0.0</td>\n",
              "      <td>0.0</td>\n",
              "    </tr>\n",
              "    <tr>\n",
              "      <th>298</th>\n",
              "      <td>2022-03-10</td>\n",
              "      <td>283.019989</td>\n",
              "      <td>286.600006</td>\n",
              "      <td>280.579987</td>\n",
              "      <td>285.589996</td>\n",
              "      <td>30628000</td>\n",
              "      <td>0.0</td>\n",
              "      <td>0.0</td>\n",
              "    </tr>\n",
              "    <tr>\n",
              "      <th>299</th>\n",
              "      <td>2022-03-11</td>\n",
              "      <td>287.959991</td>\n",
              "      <td>289.510010</td>\n",
              "      <td>279.429993</td>\n",
              "      <td>280.070007</td>\n",
              "      <td>27192600</td>\n",
              "      <td>0.0</td>\n",
              "      <td>0.0</td>\n",
              "    </tr>\n",
              "    <tr>\n",
              "      <th>300</th>\n",
              "      <td>2022-03-14</td>\n",
              "      <td>280.339996</td>\n",
              "      <td>284.739990</td>\n",
              "      <td>280.010010</td>\n",
              "      <td>283.170013</td>\n",
              "      <td>4223725</td>\n",
              "      <td>0.0</td>\n",
              "      <td>0.0</td>\n",
              "    </tr>\n",
              "  </tbody>\n",
              "</table>\n",
              "<p>301 rows × 8 columns</p>\n",
              "</div>\n",
              "      <button class=\"colab-df-convert\" onclick=\"convertToInteractive('df-7ed284ad-4729-4860-bba5-8d39651d0e4e')\"\n",
              "              title=\"Convert this dataframe to an interactive table.\"\n",
              "              style=\"display:none;\">\n",
              "        \n",
              "  <svg xmlns=\"http://www.w3.org/2000/svg\" height=\"24px\"viewBox=\"0 0 24 24\"\n",
              "       width=\"24px\">\n",
              "    <path d=\"M0 0h24v24H0V0z\" fill=\"none\"/>\n",
              "    <path d=\"M18.56 5.44l.94 2.06.94-2.06 2.06-.94-2.06-.94-.94-2.06-.94 2.06-2.06.94zm-11 1L8.5 8.5l.94-2.06 2.06-.94-2.06-.94L8.5 2.5l-.94 2.06-2.06.94zm10 10l.94 2.06.94-2.06 2.06-.94-2.06-.94-.94-2.06-.94 2.06-2.06.94z\"/><path d=\"M17.41 7.96l-1.37-1.37c-.4-.4-.92-.59-1.43-.59-.52 0-1.04.2-1.43.59L10.3 9.45l-7.72 7.72c-.78.78-.78 2.05 0 2.83L4 21.41c.39.39.9.59 1.41.59.51 0 1.02-.2 1.41-.59l7.78-7.78 2.81-2.81c.8-.78.8-2.07 0-2.86zM5.41 20L4 18.59l7.72-7.72 1.47 1.35L5.41 20z\"/>\n",
              "  </svg>\n",
              "      </button>\n",
              "      \n",
              "  <style>\n",
              "    .colab-df-container {\n",
              "      display:flex;\n",
              "      flex-wrap:wrap;\n",
              "      gap: 12px;\n",
              "    }\n",
              "\n",
              "    .colab-df-convert {\n",
              "      background-color: #E8F0FE;\n",
              "      border: none;\n",
              "      border-radius: 50%;\n",
              "      cursor: pointer;\n",
              "      display: none;\n",
              "      fill: #1967D2;\n",
              "      height: 32px;\n",
              "      padding: 0 0 0 0;\n",
              "      width: 32px;\n",
              "    }\n",
              "\n",
              "    .colab-df-convert:hover {\n",
              "      background-color: #E2EBFA;\n",
              "      box-shadow: 0px 1px 2px rgba(60, 64, 67, 0.3), 0px 1px 3px 1px rgba(60, 64, 67, 0.15);\n",
              "      fill: #174EA6;\n",
              "    }\n",
              "\n",
              "    [theme=dark] .colab-df-convert {\n",
              "      background-color: #3B4455;\n",
              "      fill: #D2E3FC;\n",
              "    }\n",
              "\n",
              "    [theme=dark] .colab-df-convert:hover {\n",
              "      background-color: #434B5C;\n",
              "      box-shadow: 0px 1px 3px 1px rgba(0, 0, 0, 0.15);\n",
              "      filter: drop-shadow(0px 1px 2px rgba(0, 0, 0, 0.3));\n",
              "      fill: #FFFFFF;\n",
              "    }\n",
              "  </style>\n",
              "\n",
              "      <script>\n",
              "        const buttonEl =\n",
              "          document.querySelector('#df-7ed284ad-4729-4860-bba5-8d39651d0e4e button.colab-df-convert');\n",
              "        buttonEl.style.display =\n",
              "          google.colab.kernel.accessAllowed ? 'block' : 'none';\n",
              "\n",
              "        async function convertToInteractive(key) {\n",
              "          const element = document.querySelector('#df-7ed284ad-4729-4860-bba5-8d39651d0e4e');\n",
              "          const dataTable =\n",
              "            await google.colab.kernel.invokeFunction('convertToInteractive',\n",
              "                                                     [key], {});\n",
              "          if (!dataTable) return;\n",
              "\n",
              "          const docLinkHtml = 'Like what you see? Visit the ' +\n",
              "            '<a target=\"_blank\" href=https://colab.research.google.com/notebooks/data_table.ipynb>data table notebook</a>'\n",
              "            + ' to learn more about interactive tables.';\n",
              "          element.innerHTML = '';\n",
              "          dataTable['output_type'] = 'display_data';\n",
              "          await google.colab.output.renderOutput(dataTable, element);\n",
              "          const docLink = document.createElement('div');\n",
              "          docLink.innerHTML = docLinkHtml;\n",
              "          element.appendChild(docLink);\n",
              "        }\n",
              "      </script>\n",
              "    </div>\n",
              "  </div>\n",
              "  "
            ]
          },
          "metadata": {},
          "execution_count": 90
        }
      ]
    },
    {
      "cell_type": "markdown",
      "source": [
        "# Уровни поддержики и сопротивления"
      ],
      "metadata": {
        "id": "ytTB8m3LM7Yr"
      }
    },
    {
      "cell_type": "code",
      "source": [
        "# determine bullish fractal \n",
        "def is_support(df,i):  \n",
        "  cond1 = df['Low'][i] < df['Low'][i-1]   \n",
        "  cond2 = df['Low'][i] < df['Low'][i+1]   \n",
        "  cond3 = df['Low'][i+1] < df['Low'][i+2]   \n",
        "  cond4 = df['Low'][i-1] < df['Low'][i-2]  \n",
        "  return (cond1 and cond2 and cond3 and cond4)\n",
        "\n",
        "# determine bearish fractal\n",
        "def is_resistance(df,i):  \n",
        "  cond1 = df['High'][i] > df['High'][i-1]   \n",
        "  cond2 = df['High'][i] > df['High'][i+1]   \n",
        "  cond3 = df['High'][i+1] > df['High'][i+2]   \n",
        "  cond4 = df['High'][i-1] > df['High'][i-2]  \n",
        "  return (cond1 and cond2 and cond3 and cond4)\n",
        "\n",
        "# to make sure the new level area does not exist already\n",
        "def is_far_from_level(value, levels, df):    \n",
        "  ave =  np.mean(df['High'] - df['Low'])    \n",
        "  return np.sum([abs(value-level)<ave for _,level, _ in levels])==0\n",
        "\n",
        "# for visualization\n",
        "def plot_all(levels, df):    \n",
        "  fig, ax = plt.subplots(figsize=(16, 9))  \n",
        "   \n",
        "  candlestick_ohlc(ax, df.values, width=0.6, colorup='green', \n",
        "    colordown='red', alpha=0.8)    \n",
        "  date_format = mpl_dates.DateFormatter('%d %b %Y')\n",
        "  ax.xaxis.set_major_formatter(date_format)\n",
        "\n",
        "  support_levels = [level for level in levels if level[2]==\"s\"]\n",
        "  resistance_levels = [level for level in levels if level[2]==\"r\"]\n",
        "\n",
        "  def plot_levels(lvls):\n",
        "    for i in range(len(lvls)):\n",
        "      level = lvls[i]\n",
        "      x_min = df['Date'][level[0]]\n",
        "      if i == len(lvls)-1:\n",
        "        x_max = max(df['Date'])\n",
        "      else:\n",
        "        next_level = lvls[i+1]\n",
        "        x_max = df['Date'][next_level[0]]\n",
        "        #x_max = max(df['Date'][next_level[0]])\n",
        "\n",
        "      if level[2]==\"r\":\n",
        "        c = \"green\"\n",
        "      elif level[2]==\"s\":\n",
        "        c = \"red\"\n",
        "      else:\n",
        "        c=\"yellow\"\n",
        "\n",
        "      plt.hlines(level[1], xmin = x_min, xmax = x_max,\n",
        "                colors=c, linestyle='--')\n",
        "      \n",
        "  plot_levels(support_levels)\n",
        "  plot_levels(resistance_levels)\n",
        "  \n",
        "  fig.show()"
      ],
      "metadata": {
        "id": "1ZbDSvjTOLts"
      },
      "execution_count": 91,
      "outputs": []
    },
    {
      "cell_type": "code",
      "source": [
        "df = stocks[[\"Date\",\t\"Open\", \"Close\",\t\"High\",\t\"Low\", \"Volume\"]].copy(deep=True)\n",
        "\n",
        "df.Date = pd.to_datetime(df.Date)\n",
        "df = df[['Date', 'Open', 'High', 'Low', 'Close', 'Volume']]\n",
        "df[\"Date\"] = df[\"Date\"].apply(mpl_dates.date2num)\n"
      ],
      "metadata": {
        "id": "OxSx5Z_DOU2g"
      },
      "execution_count": 92,
      "outputs": []
    },
    {
      "cell_type": "markdown",
      "source": [
        "## method 1: fractal candlestick pattern"
      ],
      "metadata": {
        "id": "kApiAoUBnyk3"
      }
    },
    {
      "cell_type": "code",
      "source": [
        "#method 1: fractal candlestick pattern\n",
        "def detect_level_method_1(df):\n",
        "  levels = []\n",
        "  for i in range(2,df.shape[0]-2):\n",
        "    if is_support(df,i):\n",
        "      l = df['Low'][i]\n",
        "      if is_far_from_level(l, levels, df):\n",
        "        levels.append((i,l, \"s\"))\n",
        "    elif is_resistance(df,i):\n",
        "      l = df['High'][i]\n",
        "      if is_far_from_level(l, levels, df):\n",
        "        levels.append((i,l, \"r\"))\n",
        "  return levels"
      ],
      "metadata": {
        "id": "vAKapzmkgQk4"
      },
      "execution_count": 93,
      "outputs": []
    },
    {
      "cell_type": "code",
      "source": [
        "levels_1 = detect_level_method_1(df)\n",
        "plot_all(levels_1, df)"
      ],
      "metadata": {
        "colab": {
          "base_uri": "https://localhost:8080/",
          "height": 537
        },
        "id": "rHdgGQmSgr2z",
        "outputId": "04c27130-38a3-45de-b3ef-c87c904b6de5"
      },
      "execution_count": 94,
      "outputs": [
        {
          "output_type": "display_data",
          "data": {
            "text/plain": [
              "<Figure size 1152x648 with 1 Axes>"
            ],
            "image/png": "[encoded data removed]"
          },
          "metadata": {
            "needs_background": "light"
          }
        }
      ]
    },
    {
      "cell_type": "markdown",
      "source": [
        "#method 2: window shifting method"
      ],
      "metadata": {
        "id": "7VTo5MLSKwF1"
      }
    },
    {
      "cell_type": "code",
      "source": [
        "#method 2: window shifting method\n",
        "def detect_level_method_2(df):\n",
        "  levels = []\n",
        "  max_list = []\n",
        "  min_list = []\n",
        "  for i in range(5, len(df)-5):\n",
        "      high_range = df['High'][i-5:i+4]\n",
        "      current_max = high_range.max()\n",
        "      if current_max not in max_list:\n",
        "          max_list = []\n",
        "      max_list.append(current_max)\n",
        "      if len(max_list) == 5 and is_far_from_level(current_max, levels, df):\n",
        "          levels.append((high_range.idxmax(), current_max, \"r\"))\n",
        "      \n",
        "      low_range = df['Low'][i-5:i+5]\n",
        "      current_min = low_range.min()\n",
        "      if current_min not in min_list:\n",
        "          min_list = []\n",
        "      min_list.append(current_min)\n",
        "      if len(min_list) == 5 and is_far_from_level(current_min, levels, df):\n",
        "          levels.append((low_range.idxmin(), current_min, \"s\"))\n",
        "  return levels"
      ],
      "metadata": {
        "id": "n7qRlWsHN2ex"
      },
      "execution_count": 95,
      "outputs": []
    },
    {
      "cell_type": "code",
      "source": [
        "levels_2 = detect_level_method_2(df)\n",
        "plot_all(levels_2, df)"
      ],
      "metadata": {
        "colab": {
          "base_uri": "https://localhost:8080/",
          "height": 537
        },
        "id": "DHPiMi_LN3rm",
        "outputId": "bb975dd9-b69a-425a-8afb-3175b952bd4d"
      },
      "execution_count": 96,
      "outputs": [
        {
          "output_type": "display_data",
          "data": {
            "text/plain": [
              "<Figure size 1152x648 with 1 Axes>"
            ],
            "image/png": "[encoded data removed]"
          },
          "metadata": {
            "needs_background": "light"
          }
        }
      ]
    },
    {
      "cell_type": "markdown",
      "source": [
        ""
      ],
      "metadata": {
        "id": "c93NI1uWLH4p"
      }
    },
    {
      "cell_type": "markdown",
      "source": [
        "# Поиск пробитий"
      ],
      "metadata": {
        "id": "fqK_beYLMGVw"
      }
    },
    {
      "cell_type": "code",
      "source": [
        "def plot_lines(df, levels):\n",
        "  df_copy = df.copy(deep=True)\n",
        "\n",
        "  for level in iter(levels):\n",
        "    start_id = level[0]\n",
        "    line_value = level[1]\n",
        "    line_type = level[2]\n",
        "    if line_type == \"r\":\n",
        "      df_copy.loc[start_id:, \"resistance\"] = line_value\n",
        "    elif line_type == \"s\":\n",
        "      df_copy.loc[start_id:, \"support\"] = line_value\n",
        "\n",
        "  df_copy.loc[df_copy[\"Close\"]>df_copy[\"resistance\"], \"sell\"] = df_copy.loc[df_copy[\"Close\"]>df_copy[\"resistance\"], \"Close\"]\n",
        "  df_copy.loc[df_copy[\"Close\"]<df_copy[\"support\"], \"buy\"] = df_copy.loc[df_copy[\"Close\"]<df_copy[\"support\"], \"Close\"]\n",
        "\n",
        "\n",
        "  ax = df_copy[[\"Close\"]].plot(figsize=[13,8])\n",
        "  df_copy[[\"resistance\", \"support\"]].plot(style = \"--\", ax=ax)\n",
        "  df_copy[[\"buy\"]].plot(c=\"green\", ax=ax, style=\"^\")\n",
        "  df_copy[[\"sell\"]].plot(c=\"red\", ax=ax, style=\"*\")\n",
        " \n",
        "  return df_copy"
      ],
      "metadata": {
        "id": "RLtWLudMnijH"
      },
      "execution_count": 97,
      "outputs": []
    },
    {
      "cell_type": "code",
      "source": [
        "t = plot_lines(df, levels_1)"
      ],
      "metadata": {
        "id": "fSwczJRano_d",
        "outputId": "aba0798c-61af-4b27-cda1-7c7ad577519a",
        "colab": {
          "base_uri": "https://localhost:8080/",
          "height": 483
        }
      },
      "execution_count": 102,
      "outputs": [
        {
          "output_type": "display_data",
          "data": {
            "text/plain": [
              "<Figure size 936x576 with 1 Axes>"
            ],
            "image/png": "[encoded data removed]"
          },
          "metadata": {
            "needs_background": "light"
          }
        }
      ]
    },
    {
      "cell_type": "markdown",
      "source": [
        "#Стратегия на основе пробитий"
      ],
      "metadata": {
        "id": "W_O948COZ-mF"
      }
    },
    {
      "cell_type": "code",
      "source": [
        "valid_df = t[[\"Date\", \"Close\", \"sell\", \"buy\"]]\n",
        "valid_df.columns = [\"Date\", \"price\", \"sell_signal\", \"buy_signal\"]\n",
        "valid_df = valid_df.set_index(\"Date\")"
      ],
      "metadata": {
        "id": "ei42VVJHs4tB"
      },
      "execution_count": 103,
      "outputs": []
    },
    {
      "cell_type": "code",
      "source": [
        "valid_df.head()"
      ],
      "metadata": {
        "id": "1-n1Y8uAtSJt",
        "outputId": "5987f952-1e58-4ce4-bf20-6fbdb305f248",
        "colab": {
          "base_uri": "https://localhost:8080/",
          "height": 235
        }
      },
      "execution_count": 104,
      "outputs": [
        {
          "output_type": "execute_result",
          "data": {
            "text/plain": [
              "               price  sell_signal  buy_signal\n",
              "Date                                         \n",
              "737794.0  215.434967          NaN         NaN\n",
              "737795.0  215.642776          NaN         NaN\n",
              "737796.0  210.051315          NaN         NaN\n",
              "737797.0  216.028748          NaN         NaN\n",
              "737798.0  217.344971          NaN         NaN"
            ],
            "text/html": [
              "\n",
              "  <div id=\"df-ca66c011-e64e-440e-8960-05d907d2dff5\">\n",
              "    <div class=\"colab-df-container\">\n",
              "      <div>\n",
              "<style scoped>\n",
              "    .dataframe tbody tr th:only-of-type {\n",
              "        vertical-align: middle;\n",
              "    }\n",
              "\n",
              "    .dataframe tbody tr th {\n",
              "        vertical-align: top;\n",
              "    }\n",
              "\n",
              "    .dataframe thead th {\n",
              "        text-align: right;\n",
              "    }\n",
              "</style>\n",
              "<table border=\"1\" class=\"dataframe\">\n",
              "  <thead>\n",
              "    <tr style=\"text-align: right;\">\n",
              "      <th></th>\n",
              "      <th>price</th>\n",
              "      <th>sell_signal</th>\n",
              "      <th>buy_signal</th>\n",
              "    </tr>\n",
              "    <tr>\n",
              "      <th>Date</th>\n",
              "      <th></th>\n",
              "      <th></th>\n",
              "      <th></th>\n",
              "    </tr>\n",
              "  </thead>\n",
              "  <tbody>\n",
              "    <tr>\n",
              "      <th>737794.0</th>\n",
              "      <td>215.434967</td>\n",
              "      <td>NaN</td>\n",
              "      <td>NaN</td>\n",
              "    </tr>\n",
              "    <tr>\n",
              "      <th>737795.0</th>\n",
              "      <td>215.642776</td>\n",
              "      <td>NaN</td>\n",
              "      <td>NaN</td>\n",
              "    </tr>\n",
              "    <tr>\n",
              "      <th>737796.0</th>\n",
              "      <td>210.051315</td>\n",
              "      <td>NaN</td>\n",
              "      <td>NaN</td>\n",
              "    </tr>\n",
              "    <tr>\n",
              "      <th>737797.0</th>\n",
              "      <td>216.028748</td>\n",
              "      <td>NaN</td>\n",
              "      <td>NaN</td>\n",
              "    </tr>\n",
              "    <tr>\n",
              "      <th>737798.0</th>\n",
              "      <td>217.344971</td>\n",
              "      <td>NaN</td>\n",
              "      <td>NaN</td>\n",
              "    </tr>\n",
              "  </tbody>\n",
              "</table>\n",
              "</div>\n",
              "      <button class=\"colab-df-convert\" onclick=\"convertToInteractive('df-ca66c011-e64e-440e-8960-05d907d2dff5')\"\n",
              "              title=\"Convert this dataframe to an interactive table.\"\n",
              "              style=\"display:none;\">\n",
              "        \n",
              "  <svg xmlns=\"http://www.w3.org/2000/svg\" height=\"24px\"viewBox=\"0 0 24 24\"\n",
              "       width=\"24px\">\n",
              "    <path d=\"M0 0h24v24H0V0z\" fill=\"none\"/>\n",
              "    <path d=\"M18.56 5.44l.94 2.06.94-2.06 2.06-.94-2.06-.94-.94-2.06-.94 2.06-2.06.94zm-11 1L8.5 8.5l.94-2.06 2.06-.94-2.06-.94L8.5 2.5l-.94 2.06-2.06.94zm10 10l.94 2.06.94-2.06 2.06-.94-2.06-.94-.94-2.06-.94 2.06-2.06.94z\"/><path d=\"M17.41 7.96l-1.37-1.37c-.4-.4-.92-.59-1.43-.59-.52 0-1.04.2-1.43.59L10.3 9.45l-7.72 7.72c-.78.78-.78 2.05 0 2.83L4 21.41c.39.39.9.59 1.41.59.51 0 1.02-.2 1.41-.59l7.78-7.78 2.81-2.81c.8-.78.8-2.07 0-2.86zM5.41 20L4 18.59l7.72-7.72 1.47 1.35L5.41 20z\"/>\n",
              "  </svg>\n",
              "      </button>\n",
              "      \n",
              "  <style>\n",
              "    .colab-df-container {\n",
              "      display:flex;\n",
              "      flex-wrap:wrap;\n",
              "      gap: 12px;\n",
              "    }\n",
              "\n",
              "    .colab-df-convert {\n",
              "      background-color: #E8F0FE;\n",
              "      border: none;\n",
              "      border-radius: 50%;\n",
              "      cursor: pointer;\n",
              "      display: none;\n",
              "      fill: #1967D2;\n",
              "      height: 32px;\n",
              "      padding: 0 0 0 0;\n",
              "      width: 32px;\n",
              "    }\n",
              "\n",
              "    .colab-df-convert:hover {\n",
              "      background-color: #E2EBFA;\n",
              "      box-shadow: 0px 1px 2px rgba(60, 64, 67, 0.3), 0px 1px 3px 1px rgba(60, 64, 67, 0.15);\n",
              "      fill: #174EA6;\n",
              "    }\n",
              "\n",
              "    [theme=dark] .colab-df-convert {\n",
              "      background-color: #3B4455;\n",
              "      fill: #D2E3FC;\n",
              "    }\n",
              "\n",
              "    [theme=dark] .colab-df-convert:hover {\n",
              "      background-color: #434B5C;\n",
              "      box-shadow: 0px 1px 3px 1px rgba(0, 0, 0, 0.15);\n",
              "      filter: drop-shadow(0px 1px 2px rgba(0, 0, 0, 0.3));\n",
              "      fill: #FFFFFF;\n",
              "    }\n",
              "  </style>\n",
              "\n",
              "      <script>\n",
              "        const buttonEl =\n",
              "          document.querySelector('#df-ca66c011-e64e-440e-8960-05d907d2dff5 button.colab-df-convert');\n",
              "        buttonEl.style.display =\n",
              "          google.colab.kernel.accessAllowed ? 'block' : 'none';\n",
              "\n",
              "        async function convertToInteractive(key) {\n",
              "          const element = document.querySelector('#df-ca66c011-e64e-440e-8960-05d907d2dff5');\n",
              "          const dataTable =\n",
              "            await google.colab.kernel.invokeFunction('convertToInteractive',\n",
              "                                                     [key], {});\n",
              "          if (!dataTable) return;\n",
              "\n",
              "          const docLinkHtml = 'Like what you see? Visit the ' +\n",
              "            '<a target=\"_blank\" href=https://colab.research.google.com/notebooks/data_table.ipynb>data table notebook</a>'\n",
              "            + ' to learn more about interactive tables.';\n",
              "          element.innerHTML = '';\n",
              "          dataTable['output_type'] = 'display_data';\n",
              "          await google.colab.output.renderOutput(dataTable, element);\n",
              "          const docLink = document.createElement('div');\n",
              "          docLink.innerHTML = docLinkHtml;\n",
              "          element.appendChild(docLink);\n",
              "        }\n",
              "      </script>\n",
              "    </div>\n",
              "  </div>\n",
              "  "
            ]
          },
          "metadata": {},
          "execution_count": 104
        }
      ]
    },
    {
      "cell_type": "markdown",
      "source": [
        "# Валидация стратегии"
      ],
      "metadata": {
        "id": "9NFdSdUS5f1z"
      }
    },
    {
      "cell_type": "code",
      "source": [
        "money_hist_train, money_train, eq_train = validate(valid_df, start_money = 10000, verbose=2)"
      ],
      "metadata": {
        "id": "HnU54l2zbQMC",
        "outputId": "8805618a-bc8a-481c-a80b-2780f6bac618",
        "colab": {
          "base_uri": "https://localhost:8080/"
        }
      },
      "execution_count": 105,
      "outputs": [
        {
          "output_type": "stream",
          "name": "stdout",
          "text": [
            "Денег в начале стратегии: 10000\n",
            "738043.0: Покупаем 33.0  по цене 294.5608825683594, остаток средств: 279.4908752441406\n",
            "738049.0: Продаём 33.0  по цене 304.033935546875, остаток средств: 10312.610748291016\n",
            "738053.0: Покупаем 35.0  по цене 293.1563720703125, остаток средств: 52.137725830078125\n",
            "738054.0: Покупаем 0.0  по цене 293.6544494628906, остаток средств: 52.137725830078125\n",
            "738060.0: Покупаем 0.0  по цене 293.02691650390625, остаток средств: 52.137725830078125\n",
            "738061.0: Покупаем 0.0  по цене 282.41827392578125, остаток средств: 52.137725830078125\n",
            "738062.0: Покупаем 0.0  по цене 282.89642333984375, остаток средств: 52.137725830078125\n",
            "738063.0: Покупаем 0.0  по цене 280.82452392578125, остаток средств: 52.137725830078125\n",
            "738064.0: Покупаем 0.0  по цене 287.9765930175781, остаток средств: 52.137725830078125\n",
            "738067.0: Покупаем 0.0  по цене 282.0098571777344, остаток средств: 52.137725830078125\n",
            "738068.0: Покупаем 0.0  по цене 287.6379089355469, остаток средств: 52.137725830078125\n",
            "738069.0: Покупаем 0.0  по цене 291.97100830078125, остаток средств: 52.137725830078125\n",
            "738070.0: Покупаем 0.0  по цене 293.70428466796875, остаток средств: 52.137725830078125\n",
            "738071.0: Покупаем 0.0  по цене 293.70428466796875, остаток средств: 52.137725830078125\n",
            "738074.0: Покупаем 0.0  по цене 293.0867004394531, остаток средств: 52.137725830078125\n",
            "738075.0: Покупаем 0.0  по цене 291.7419128417969, остаток средств: 52.137725830078125\n",
            "738076.0: Покупаем 0.0  по цене 295.1585693359375, остаток средств: 52.137725830078125\n",
            "738081.0: Продаём 35.0  по цене 306.095947265625, остаток средств: 10765.495880126953\n",
            "738160.0: Покупаем 34.0  по цене 315.7271728515625, остаток средств: 30.772003173828125\n",
            "738161.0: Покупаем 0.0  по цене 313.2323303222656, остаток средств: 30.772003173828125\n",
            "738162.0: Покупаем 0.0  по цене 313.3919982910156, остаток средств: 30.772003173828125\n",
            "738165.0: Покупаем 0.0  по цене 313.62152099609375, остаток средств: 30.772003173828125\n",
            "738166.0: Покупаем 0.0  по цене 314.330078125, остаток средств: 30.772003173828125\n",
            "738168.0: Покупаем 0.0  по цене 304.1710510253906, остаток средств: 30.772003173828125\n",
            "738169.0: Покупаем 0.0  по цене 309.5599365234375, остаток средств: 30.772003173828125\n",
            "738173.0: Покупаем 0.0  по цене 302.0254821777344, остаток средств: 30.772003173828125\n",
            "738174.0: Покупаем 0.0  по цене 302.7040710449219, остаток средств: 30.772003173828125\n",
            "738175.0: Покупаем 0.0  по цене 300.9776611328125, остаток средств: 30.772003173828125\n",
            "738176.0: Покупаем 0.0  по цене 295.4191589355469, остаток средств: 30.772003173828125\n",
            "738179.0: Покупаем 0.0  по цене 295.7584533691406, остаток средств: 30.772003173828125\n",
            "738180.0: Покупаем 0.0  по цене 287.89471435546875, остаток средств: 30.772003173828125\n",
            "738181.0: Покупаем 0.0  по цене 296.0977478027344, остаток средств: 30.772003173828125\n",
            "738182.0: Покупаем 0.0  по цене 299.2212829589844, остаток средств: 30.772003173828125\n",
            "738183.0: Покупаем 0.0  по цене 307.6239318847656, остаток средств: 30.772003173828125\n",
            "738186.0: Покупаем 0.0  по цене 310.33831787109375, остаток средств: 30.772003173828125\n",
            "738187.0: Покупаем 0.0  по цене 308.1228942871094, остаток средств: 30.772003173828125\n",
            "738188.0: Покупаем 0.0  по цене 312.81317138671875, остаток средств: 30.772003173828125\n",
            "738189.0: Покупаем 0.0  по цене 300.6283874511719, остаток средств: 30.772003173828125\n",
            "738190.0: Покупаем 0.0  по цене 305.3087158203125, остаток средств: 30.772003173828125\n",
            "738193.0: Покупаем 0.0  по цене 300.3290100097656, остаток средств: 30.772003173828125\n",
            "738194.0: Покупаем 0.0  по цене 303.9315490722656, остаток средств: 30.772003173828125\n",
            "738195.0: Покупаем 0.0  по цене 310.56781005859375, остаток средств: 30.772003173828125\n",
            "738196.0: Покупаем 0.0  по цене 301.7560729980469, остаток средств: 30.772003173828125\n",
            "738197.0: Покупаем 0.0  по цене 294.43121337890625, остаток средств: 30.772003173828125\n",
            "738200.0: Покупаем 0.0  по цене 294.39129638671875, остаток средств: 30.772003173828125\n",
            "738201.0: Покупаем 0.0  по цене 299.8500061035156, остаток средств: 30.772003173828125\n",
            "738202.0: Покупаем 0.0  по цене 299.5, остаток средств: 30.772003173828125\n",
            "738203.0: Покупаем 0.0  по цене 290.7300109863281, остаток средств: 30.772003173828125\n",
            "738204.0: Покупаем 0.0  по цене 287.92999267578125, остаток средств: 30.772003173828125\n",
            "738208.0: Покупаем 0.0  по цене 287.7200012207031, остаток средств: 30.772003173828125\n",
            "738209.0: Покупаем 0.0  по цене 280.2699890136719, остаток средств: 30.772003173828125\n",
            "738210.0: Покупаем 0.0  по цене 294.5899963378906, остаток средств: 30.772003173828125\n",
            "738211.0: Покупаем 0.0  по цене 297.30999755859375, остаток средств: 30.772003173828125\n",
            "738214.0: Покупаем 0.0  по цене 298.7900085449219, остаток средств: 30.772003173828125\n",
            "738215.0: Покупаем 0.0  по цене 294.95001220703125, остаток средств: 30.772003173828125\n",
            "738216.0: Покупаем 0.0  по цене 300.19000244140625, остаток средств: 30.772003173828125\n",
            "738217.0: Покупаем 0.0  по цене 295.9200134277344, остаток средств: 30.772003173828125\n",
            "738218.0: Покупаем 0.0  по цене 289.8599853515625, остаток средств: 30.772003173828125\n",
            "738221.0: Покупаем 0.0  по цене 278.9100036621094, остаток средств: 30.772003173828125\n",
            "738222.0: Покупаем 0.0  по цене 275.8500061035156, остаток средств: 30.772003173828125\n",
            "738223.0: Покупаем 0.0  по цене 288.5, остаток средств: 30.772003173828125\n",
            "738224.0: Покупаем 0.0  по цене 285.5899963378906, остаток средств: 30.772003173828125\n",
            "738225.0: Покупаем 0.0  по цене 280.07000732421875, остаток средств: 30.772003173828125\n",
            "738228.0: Покупаем 0.0  по цене 283.1700134277344, остаток средств: 30.772003173828125\n",
            "Денег в конце стратегии: 9658.552459716797\n"
          ]
        }
      ]
    },
    {
      "cell_type": "code",
      "source": [
        "plt.plot(money_hist_train)"
      ],
      "metadata": {
        "id": "LboGtoAsnrro",
        "outputId": "d0669e71-a6d9-4d84-ecc6-a5db1054e5af",
        "colab": {
          "base_uri": "https://localhost:8080/",
          "height": 282
        }
      },
      "execution_count": 106,
      "outputs": [
        {
          "output_type": "execute_result",
          "data": {
            "text/plain": [
              "[<matplotlib.lines.Line2D at 0x7fcd90af4b90>]"
            ]
          },
          "metadata": {},
          "execution_count": 106
        },
        {
          "output_type": "display_data",
          "data": {
            "text/plain": [
              "<Figure size 432x288 with 1 Axes>"
            ],
            "image/png": "[encoded data removed]"
          },
          "metadata": {
            "needs_background": "light"
          }
        }
      ]
    }
  ]
}