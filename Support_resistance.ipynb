{
  "nbformat": 4,
  "nbformat_minor": 0,
  "metadata": {
    "colab": {
      "name": "High_detector",
      "provenance": [],
      "authorship_tag": "ABX9TyNMDiW14XidJ9Hai4AuMvmu",
      "include_colab_link": true
    },
    "kernelspec": {
      "name": "python3",
      "display_name": "Python 3"
    },
    "language_info": {
      "name": "python"
    }
  },
  "cells": [
    {
      "cell_type": "markdown",
      "metadata": {
        "id": "view-in-github",
        "colab_type": "text"
      },
      "source": [
        "<a href=\"https://colab.research.google.com/github/Falconwatch/MarketKing/blob/main/Support_resistance.ipynb\" target=\"_parent\"><img src=\"https://colab.research.google.com/assets/colab-badge.svg\" alt=\"Open In Colab\"/></a>"
      ]
    },
    {
      "cell_type": "markdown",
      "source": [
        "В этом ноутбуке развивается предсказатель высшей точки. Его цель - предсказывать, что мы находимя в локлаьном максимуме - цены выше на заданном горизонте в будущем не будет"
      ],
      "metadata": {
        "id": "_ejqWKdD_mlx"
      }
    },
    {
      "cell_type": "code",
      "source": [
        "#!pip install yfinance"
      ],
      "metadata": {
        "id": "m7aB4z-r_6mI"
      },
      "execution_count": 3,
      "outputs": []
    },
    {
      "cell_type": "code",
      "source": [
        "from numpy.core.numeric import isclose\n",
        "import yfinance\n",
        "import pandas as pd\n",
        "import numpy as np\n",
        "import matplotlib.pyplot as plt\n",
        "from math import isclose\n",
        "%matplotlib inline"
      ],
      "metadata": {
        "id": "F1JJitiA_-l8"
      },
      "execution_count": 1,
      "outputs": []
    },
    {
      "cell_type": "code",
      "source": [
        "from methods import *"
      ],
      "metadata": {
        "id": "HCS1XObuAFB4"
      },
      "execution_count": 2,
      "outputs": []
    },
    {
      "cell_type": "markdown",
      "source": [
        "# Готовим данные"
      ],
      "metadata": {
        "id": "VAaapcSZuvUg"
      }
    },
    {
      "cell_type": "code",
      "source": [
        "stocks = load_data(\"MSFT\", period_start=\"2021-01-01\", step=\"1d\")\n",
        "print(stocks.shape[0])\n",
        "stocks.head()"
      ],
      "metadata": {
        "colab": {
          "base_uri": "https://localhost:8080/",
          "height": 269
        },
        "id": "7HiDTIKyANdZ",
        "outputId": "e8f140fd-c6aa-4aa8-a480-7d6c0a45dd43"
      },
      "execution_count": 3,
      "outputs": [
        {
          "output_type": "stream",
          "name": "stdout",
          "text": [
            "\r[*********************100%***********************]  1 of 1 completed\n",
            "298\n"
          ]
        },
        {
          "output_type": "execute_result",
          "data": {
            "text/html": [
              "\n",
              "  <div id=\"df-f1819964-d98d-4d5d-9bbf-7d053f6e3ddd\">\n",
              "    <div class=\"colab-df-container\">\n",
              "      <div>\n",
              "<style scoped>\n",
              "    .dataframe tbody tr th:only-of-type {\n",
              "        vertical-align: middle;\n",
              "    }\n",
              "\n",
              "    .dataframe tbody tr th {\n",
              "        vertical-align: top;\n",
              "    }\n",
              "\n",
              "    .dataframe thead th {\n",
              "        text-align: right;\n",
              "    }\n",
              "</style>\n",
              "<table border=\"1\" class=\"dataframe\">\n",
              "  <thead>\n",
              "    <tr style=\"text-align: right;\">\n",
              "      <th></th>\n",
              "      <th>Open</th>\n",
              "      <th>High</th>\n",
              "      <th>Low</th>\n",
              "      <th>Close</th>\n",
              "      <th>Volume</th>\n",
              "    </tr>\n",
              "    <tr>\n",
              "      <th>Date</th>\n",
              "      <th></th>\n",
              "      <th></th>\n",
              "      <th></th>\n",
              "      <th></th>\n",
              "      <th></th>\n",
              "    </tr>\n",
              "  </thead>\n",
              "  <tbody>\n",
              "    <tr>\n",
              "      <th>2021-01-04</th>\n",
              "      <td>220.224826</td>\n",
              "      <td>220.689959</td>\n",
              "      <td>212.584796</td>\n",
              "      <td>215.434967</td>\n",
              "      <td>37130100</td>\n",
              "    </tr>\n",
              "    <tr>\n",
              "      <th>2021-01-05</th>\n",
              "      <td>215.009422</td>\n",
              "      <td>216.256380</td>\n",
              "      <td>213.465584</td>\n",
              "      <td>215.642792</td>\n",
              "      <td>23823000</td>\n",
              "    </tr>\n",
              "    <tr>\n",
              "      <th>2021-01-06</th>\n",
              "      <td>209.972127</td>\n",
              "      <td>214.247383</td>\n",
              "      <td>209.744514</td>\n",
              "      <td>210.051300</td>\n",
              "      <td>35930700</td>\n",
              "    </tr>\n",
              "    <tr>\n",
              "      <th>2021-01-07</th>\n",
              "      <td>211.822773</td>\n",
              "      <td>217.067874</td>\n",
              "      <td>211.496205</td>\n",
              "      <td>216.028748</td>\n",
              "      <td>27694500</td>\n",
              "    </tr>\n",
              "    <tr>\n",
              "      <th>2021-01-08</th>\n",
              "      <td>216.414706</td>\n",
              "      <td>218.295033</td>\n",
              "      <td>214.781804</td>\n",
              "      <td>217.344971</td>\n",
              "      <td>22956200</td>\n",
              "    </tr>\n",
              "  </tbody>\n",
              "</table>\n",
              "</div>\n",
              "      <button class=\"colab-df-convert\" onclick=\"convertToInteractive('df-f1819964-d98d-4d5d-9bbf-7d053f6e3ddd')\"\n",
              "              title=\"Convert this dataframe to an interactive table.\"\n",
              "              style=\"display:none;\">\n",
              "        \n",
              "  <svg xmlns=\"http://www.w3.org/2000/svg\" height=\"24px\"viewBox=\"0 0 24 24\"\n",
              "       width=\"24px\">\n",
              "    <path d=\"M0 0h24v24H0V0z\" fill=\"none\"/>\n",
              "    <path d=\"M18.56 5.44l.94 2.06.94-2.06 2.06-.94-2.06-.94-.94-2.06-.94 2.06-2.06.94zm-11 1L8.5 8.5l.94-2.06 2.06-.94-2.06-.94L8.5 2.5l-.94 2.06-2.06.94zm10 10l.94 2.06.94-2.06 2.06-.94-2.06-.94-.94-2.06-.94 2.06-2.06.94z\"/><path d=\"M17.41 7.96l-1.37-1.37c-.4-.4-.92-.59-1.43-.59-.52 0-1.04.2-1.43.59L10.3 9.45l-7.72 7.72c-.78.78-.78 2.05 0 2.83L4 21.41c.39.39.9.59 1.41.59.51 0 1.02-.2 1.41-.59l7.78-7.78 2.81-2.81c.8-.78.8-2.07 0-2.86zM5.41 20L4 18.59l7.72-7.72 1.47 1.35L5.41 20z\"/>\n",
              "  </svg>\n",
              "      </button>\n",
              "      \n",
              "  <style>\n",
              "    .colab-df-container {\n",
              "      display:flex;\n",
              "      flex-wrap:wrap;\n",
              "      gap: 12px;\n",
              "    }\n",
              "\n",
              "    .colab-df-convert {\n",
              "      background-color: #E8F0FE;\n",
              "      border: none;\n",
              "      border-radius: 50%;\n",
              "      cursor: pointer;\n",
              "      display: none;\n",
              "      fill: #1967D2;\n",
              "      height: 32px;\n",
              "      padding: 0 0 0 0;\n",
              "      width: 32px;\n",
              "    }\n",
              "\n",
              "    .colab-df-convert:hover {\n",
              "      background-color: #E2EBFA;\n",
              "      box-shadow: 0px 1px 2px rgba(60, 64, 67, 0.3), 0px 1px 3px 1px rgba(60, 64, 67, 0.15);\n",
              "      fill: #174EA6;\n",
              "    }\n",
              "\n",
              "    [theme=dark] .colab-df-convert {\n",
              "      background-color: #3B4455;\n",
              "      fill: #D2E3FC;\n",
              "    }\n",
              "\n",
              "    [theme=dark] .colab-df-convert:hover {\n",
              "      background-color: #434B5C;\n",
              "      box-shadow: 0px 1px 3px 1px rgba(0, 0, 0, 0.15);\n",
              "      filter: drop-shadow(0px 1px 2px rgba(0, 0, 0, 0.3));\n",
              "      fill: #FFFFFF;\n",
              "    }\n",
              "  </style>\n",
              "\n",
              "      <script>\n",
              "        const buttonEl =\n",
              "          document.querySelector('#df-f1819964-d98d-4d5d-9bbf-7d053f6e3ddd button.colab-df-convert');\n",
              "        buttonEl.style.display =\n",
              "          google.colab.kernel.accessAllowed ? 'block' : 'none';\n",
              "\n",
              "        async function convertToInteractive(key) {\n",
              "          const element = document.querySelector('#df-f1819964-d98d-4d5d-9bbf-7d053f6e3ddd');\n",
              "          const dataTable =\n",
              "            await google.colab.kernel.invokeFunction('convertToInteractive',\n",
              "                                                     [key], {});\n",
              "          if (!dataTable) return;\n",
              "\n",
              "          const docLinkHtml = 'Like what you see? Visit the ' +\n",
              "            '<a target=\"_blank\" href=https://colab.research.google.com/notebooks/data_table.ipynb>data table notebook</a>'\n",
              "            + ' to learn more about interactive tables.';\n",
              "          element.innerHTML = '';\n",
              "          dataTable['output_type'] = 'display_data';\n",
              "          await google.colab.output.renderOutput(dataTable, element);\n",
              "          const docLink = document.createElement('div');\n",
              "          docLink.innerHTML = docLinkHtml;\n",
              "          element.appendChild(docLink);\n",
              "        }\n",
              "      </script>\n",
              "    </div>\n",
              "  </div>\n",
              "  "
            ],
            "text/plain": [
              "                  Open        High         Low       Close    Volume\n",
              "Date                                                                \n",
              "2021-01-04  220.224826  220.689959  212.584796  215.434967  37130100\n",
              "2021-01-05  215.009422  216.256380  213.465584  215.642792  23823000\n",
              "2021-01-06  209.972127  214.247383  209.744514  210.051300  35930700\n",
              "2021-01-07  211.822773  217.067874  211.496205  216.028748  27694500\n",
              "2021-01-08  216.414706  218.295033  214.781804  217.344971  22956200"
            ]
          },
          "metadata": {},
          "execution_count": 3
        }
      ]
    },
    {
      "cell_type": "markdown",
      "source": [
        "## Размечаем таргет"
      ],
      "metadata": {
        "id": "Xe639m6YFcqi"
      }
    },
    {
      "cell_type": "code",
      "source": [
        "print(\"Размечаем таргет...\")\n",
        "mark_data_targets(stocks, window=10)\n",
        "\n",
        "# отрисовываем график таргеты\n",
        "stocks[\"Close\"].plot(figsize=[10,7], color=\"royalblue\")\n",
        "stocks.loc[stocks[\"peaks\"]==1, \"Close\"].plot(style=\"^\", label=\"peak\", color=\"orange\")\n",
        "stocks.loc[stocks[\"lows\"]==1, \"Close\"].plot(style=\"*\", label=\"low\", color=\"red\")\n",
        "\n",
        "_ = plt.legend()"
      ],
      "metadata": {
        "id": "rOMjhBCGAb9K",
        "colab": {
          "base_uri": "https://localhost:8080/",
          "height": 441
        },
        "outputId": "a7e12562-d08a-447e-c68c-f348c99cc4dc"
      },
      "execution_count": 4,
      "outputs": [
        {
          "output_type": "stream",
          "name": "stdout",
          "text": [
            "Размечаем таргет...\n"
          ]
        },
        {
          "output_type": "display_data",
          "data": {
            "image/png": "[encoded data removed]",
            "text/plain": [
              "<Figure size 720x504 with 1 Axes>"
            ]
          },
          "metadata": {
            "needs_background": "light"
          }
        }
      ]
    },
    {
      "cell_type": "markdown",
      "source": [
        "# Уровни поддержики и сопротивления"
      ],
      "metadata": {
        "id": "ytTB8m3LM7Yr"
      }
    },
    {
      "cell_type": "code",
      "source": [
        ""
      ],
      "metadata": {
        "id": "VUU-3ppzzM7t"
      },
      "execution_count": null,
      "outputs": []
    },
    {
      "cell_type": "markdown",
      "source": [
        "# Валидация стратегии"
      ],
      "metadata": {
        "id": "9NFdSdUS5f1z"
      }
    },
    {
      "cell_type": "code",
      "source": [
        "money_hist_train, money_train, eq_train = validate(train_data, start_money = 10000, verbose=2)"
      ],
      "metadata": {
        "id": "HnU54l2zbQMC",
        "outputId": "220f423f-45ae-4a1e-f2b9-761c551306d6",
        "colab": {
          "base_uri": "https://localhost:8080/"
        }
      },
      "execution_count": 17,
      "outputs": [
        {
          "output_type": "stream",
          "name": "stdout",
          "text": [
            "Денег в начале стратегии: 10000\n",
            "2021-01-12 00:00:00: Покупаем 47.0  по цене 212.70355224609375, остаток средств: 2.93304443359375\n",
            "2021-02-12 00:00:00: Покупаем 0.0  по цене 242.45216369628906, остаток средств: 2.93304443359375\n",
            "2021-02-18 00:00:00: Покупаем 0.0  по цене 241.8202667236328, остаток средств: 2.93304443359375\n",
            "2021-02-19 00:00:00: Покупаем 0.0  по цене 239.0230712890625, остаток средств: 2.93304443359375\n",
            "2021-03-02 00:00:00: Покупаем 0.0  по цене 231.9804229736328, остаток средств: 2.93304443359375\n",
            "2021-03-03 00:00:00: Покупаем 0.0  по цене 225.7213897705078, остаток средств: 2.93304443359375\n",
            "2021-03-15 00:00:00: Продаём 47.0  по цене 232.91282653808594, остаток средств: 10949.835891723633\n",
            "2021-03-17 00:00:00: Покупаем 46.0  по цене 235.12481689453125, остаток средств: 134.0943145751953\n",
            "2021-03-18 00:00:00: Покупаем 0.0  по цене 228.8558807373047, остаток средств: 134.0943145751953\n",
            "2021-03-24 00:00:00: Покупаем 0.0  по цене 233.5575714111328, остаток средств: 134.0943145751953\n",
            "2021-03-29 00:00:00: Покупаем 0.0  по цене 233.33935546875, остаток средств: 134.0943145751953\n",
            "2021-04-19 00:00:00: Покупаем 0.0  по цене 256.6495056152344, остаток средств: 134.0943145751953\n",
            "2021-04-27 00:00:00: Покупаем 0.0  по цене 259.8533935546875, остаток средств: 134.0943145751953\n",
            "2021-04-28 00:00:00: Покупаем 0.0  по цене 252.50323486328125, остаток средств: 134.0943145751953\n",
            "2021-05-10 00:00:00: Покупаем 0.0  по цене 245.18289184570312, остаток средств: 134.0943145751953\n",
            "2021-05-17 00:00:00: Покупаем 0.0  по цене 243.1990509033203, остаток средств: 134.0943145751953\n",
            "2021-05-18 00:00:00: Покупаем 0.0  по цене 241.1160125732422, остаток средств: 134.0943145751953\n",
            "2021-05-25 00:00:00: Продаём 46.0  по цене 250.2627410888672, остаток средств: 11646.180404663086\n",
            "2021-05-27 00:00:00: Покупаем 46.0  по цене 247.86669921875, остаток средств: 244.31224060058594\n",
            "2021-05-28 00:00:00: Покупаем 0.0  по цене 248.23455810546875, остаток средств: 244.31224060058594\n",
            "2021-06-15 00:00:00: Покупаем 0.0  по цене 256.86431884765625, остаток средств: 244.31224060058594\n",
            "2021-07-09 00:00:00: Покупаем 0.0  по цене 276.3309326171875, остаток средств: 244.31224060058594\n",
            "2021-07-16 00:00:00: Покупаем 0.0  по цене 279.12469482421875, остаток средств: 244.31224060058594\n",
            "2021-07-19 00:00:00: Покупаем 0.0  по цене 275.4063415527344, остаток средств: 244.31224060058594\n",
            "2021-07-27 00:00:00: Покупаем 0.0  по цене 284.8811950683594, остаток средств: 244.31224060058594\n",
            "2021-07-28 00:00:00: Покупаем 0.0  по цене 284.5630187988281, остаток средств: 244.31224060058594\n",
            "2021-08-09 00:00:00: Покупаем 0.0  по цене 286.6607971191406, остаток средств: 244.31224060058594\n",
            "2021-08-10 00:00:00: Покупаем 0.0  по цене 284.78173828125, остаток средств: 244.31224060058594\n",
            "2021-08-17 00:00:00: Покупаем 0.0  по цене 291.3832702636719, остаток средств: 244.31224060058594\n",
            "2021-08-25 00:00:00: Покупаем 0.0  по цене 300.8364562988281, остаток средств: 244.31224060058594\n",
            "2021-08-26 00:00:00: Покупаем 0.0  по цене 297.9277648925781, остаток средств: 244.31224060058594\n",
            "2021-09-01 00:00:00: Покупаем 0.0  по цене 300.6571350097656, остаток средств: 244.31224060058594\n",
            "2021-09-02 00:00:00: Покупаем 0.0  по цене 299.9797668457031, остаток средств: 244.31224060058594\n",
            "2021-09-16 00:00:00: Покупаем 0.0  по цене 304.033935546875, остаток средств: 244.31224060058594\n",
            "2021-09-17 00:00:00: Покупаем 0.0  по цене 298.7047424316406, остаток средств: 244.31224060058594\n",
            "2021-09-24 00:00:00: Покупаем 0.0  по цене 298.186767578125, остаток средств: 244.31224060058594\n",
            "2021-09-27 00:00:00: Покупаем 0.0  по цене 293.02691650390625, остаток средств: 244.31224060058594\n",
            "2021-10-11 00:00:00: Покупаем 0.0  по цене 293.0867004394531, остаток средств: 244.31224060058594\n",
            "2021-10-12 00:00:00: Продаём 46.0  по цене 291.7419128417969, остаток средств: 13664.440231323242\n",
            "Денег в конце стратегии: 13664.440231323242\n"
          ]
        }
      ]
    },
    {
      "cell_type": "code",
      "source": [
        "plt.plot(money_hist_train)"
      ],
      "metadata": {
        "colab": {
          "base_uri": "https://localhost:8080/",
          "height": 282
        },
        "id": "LboGtoAsnrro",
        "outputId": "5203eaee-8b70-4ad9-de1e-1882e72b0537"
      },
      "execution_count": 18,
      "outputs": [
        {
          "output_type": "execute_result",
          "data": {
            "text/plain": [
              "[<matplotlib.lines.Line2D at 0x7efee5318210>]"
            ]
          },
          "metadata": {},
          "execution_count": 18
        },
        {
          "output_type": "display_data",
          "data": {
            "image/png": "[encoded data removed]",
            "text/plain": [
              "<Figure size 432x288 with 1 Axes>"
            ]
          },
          "metadata": {
            "needs_background": "light"
          }
        }
      ]
    },
    {
      "cell_type": "code",
      "source": [
        "money_hist_test, money_test, eq_test = validate(test_data, start_money = 10000, verbose=2)"
      ],
      "metadata": {
        "id": "UXooBHd49dwN",
        "outputId": "2644a9b8-fb96-4146-9f0e-9b170267e3a3",
        "colab": {
          "base_uri": "https://localhost:8080/"
        }
      },
      "execution_count": 19,
      "outputs": [
        {
          "output_type": "stream",
          "name": "stdout",
          "text": [
            "Денег в начале стратегии: 10000\n",
            "2021-10-22 00:00:00: Покупаем 32.0  по цене 307.9586486816406, остаток средств: 145.3232421875\n",
            "2021-11-09 00:00:00: Покупаем 0.0  по цене 334.6445617675781, остаток средств: 145.3232421875\n",
            "2021-11-10 00:00:00: Покупаем 0.0  по цене 329.5145568847656, остаток средств: 145.3232421875\n",
            "2021-11-22 00:00:00: Покупаем 0.0  по цене 339.1287536621094, остаток средств: 145.3232421875\n",
            "2021-11-23 00:00:00: Покупаем 0.0  по цене 336.98321533203125, остаток средств: 145.3232421875\n",
            "2021-12-13 00:00:00: Покупаем 0.0  по цене 338.69964599609375, остаток средств: 145.3232421875\n",
            "2021-12-13 00:00:00: Продаём 32.0  по цене 338.69964599609375, остаток средств: 10983.7119140625\n",
            "2021-12-14 00:00:00: Покупаем 33.0  по цене 327.6624755859375, остаток средств: 170.8502197265625\n",
            "2021-12-14 00:00:00: Продаём 33.0  по цене 327.6624755859375, остаток средств: 10983.7119140625\n",
            "2021-12-30 00:00:00: Покупаем 32.0  по цене 338.6198425292969, остаток средств: 147.876953125\n",
            "2021-12-31 00:00:00: Покупаем 0.0  по цене 335.62603759765625, остаток средств: 147.876953125\n",
            "2022-01-13 00:00:00: Покупаем 0.0  по цене 304.1710510253906, остаток средств: 147.876953125\n",
            "2022-02-02 00:00:00: Покупаем 0.0  по цене 312.81317138671875, остаток средств: 147.876953125\n",
            "2022-02-02 00:00:00: Продаём 32.0  по цене 312.81317138671875, остаток средств: 10157.8984375\n",
            "2022-02-03 00:00:00: Покупаем 33.0  по цене 300.6283874511719, остаток средств: 237.16165161132812\n",
            "2022-02-03 00:00:00: Продаём 33.0  по цене 300.6283874511719, остаток средств: 10157.8984375\n",
            "2022-02-10 00:00:00: Покупаем 33.0  по цене 301.7560729980469, остаток средств: 199.94802856445312\n",
            "2022-03-02 00:00:00: Покупаем 0.0  по цене 300.19000244140625, остаток средств: 199.94802856445312\n",
            "2022-03-03 00:00:00: Покупаем 0.0  по цене 295.9200134277344, остаток средств: 199.94802856445312\n",
            "Денег в конце стратегии: 9720.448028564453\n"
          ]
        }
      ]
    },
    {
      "cell_type": "code",
      "source": [
        "plt.plot(money_hist_test)"
      ],
      "metadata": {
        "id": "xQkvQCOtV5sf",
        "outputId": "4288cca9-beb4-48a9-8b0a-580c9cd62ad7",
        "colab": {
          "base_uri": "https://localhost:8080/",
          "height": 282
        }
      },
      "execution_count": 20,
      "outputs": [
        {
          "output_type": "execute_result",
          "data": {
            "text/plain": [
              "[<matplotlib.lines.Line2D at 0x7efee6e61e10>]"
            ]
          },
          "metadata": {},
          "execution_count": 20
        },
        {
          "output_type": "display_data",
          "data": {
            "image/png": "[encoded data removed]",
            "text/plain": [
              "<Figure size 432x288 with 1 Axes>"
            ]
          },
          "metadata": {
            "needs_background": "light"
          }
        }
      ]
    },
    {
      "cell_type": "code",
      "source": [
        ""
      ],
      "metadata": {
        "id": "Z6vsk6Msyj50"
      },
      "execution_count": null,
      "outputs": []
    }
  ]
}